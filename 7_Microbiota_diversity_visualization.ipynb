{
  "nbformat": 4,
  "nbformat_minor": 0,
  "metadata": {
    "colab": {
      "name": "Untitled3.ipynb",
      "provenance": [],
      "authorship_tag": "ABX9TyMSXVUe6mvpBguBbGvMGwkw",
      "include_colab_link": true
    },
    "kernelspec": {
      "name": "ir",
      "display_name": "R"
    },
    "language_info": {
      "name": "R"
    }
  },
  "cells": [
    {
      "cell_type": "markdown",
      "metadata": {
        "id": "view-in-github",
        "colab_type": "text"
      },
      "source": [
        "<a href=\"https://colab.research.google.com/github/asangphukieo/Gut_microbiota_workshop_CMUTEAM_2022/blob/main/7_Microbiota_diversity_visualization.ipynb\" target=\"_parent\"><img src=\"https://colab.research.google.com/assets/colab-badge.svg\" alt=\"Open In Colab\"/></a>"
      ]
    },
    {
      "cell_type": "markdown",
      "source": [
        "# Microbiota diversity visualization in R "
      ],
      "metadata": {
        "id": "FqCvj0fPKeSn"
      }
    },
    {
      "cell_type": "markdown",
      "source": [
        "### Note: use this link to create a new R notebook https://colab.research.google.com/notebook#create=true&language=r"
      ],
      "metadata": {
        "id": "XzGSliWP7aS1"
      }
    },
    {
      "cell_type": "markdown",
      "source": [
        "## 1. Install required library"
      ],
      "metadata": {
        "id": "JiuwtvHy7zcp"
      }
    },
    {
      "cell_type": "code",
      "source": [
        "if (!requireNamespace(\"BiocManager\"))\n",
        "    install.packages(\"BiocManager\")\n",
        "## install core packages\n",
        "BiocManager::install()\n",
        "## install specific packages\n",
        "BiocManager::install(c(\"devtools\",\"vegan\",\"phyloseq\",\"ggplot2\",\"ape\",\"ggpubr\",\"dplyr\"))"
      ],
      "metadata": {
        "colab": {
          "base_uri": "https://localhost:8080/"
        },
        "id": "pEwXMs7b7y9a",
        "outputId": "2b40d7df-bed0-4b7b-9959-e2fd3abbf51f"
      },
      "execution_count": 3,
      "outputs": [
        {
          "output_type": "stream",
          "name": "stderr",
          "text": [
            "Loading required namespace: BiocManager\n",
            "\n",
            "Installing package into ‘/usr/local/lib/R/site-library’\n",
            "(as ‘lib’ is unspecified)\n",
            "\n",
            "'getOption(\"repos\")' replaces Bioconductor standard repositories, see\n",
            "'?repositories' for details\n",
            "\n",
            "replacement repositories:\n",
            "    CRAN: https://cran.rstudio.com\n",
            "\n",
            "\n",
            "Bioconductor version 3.15 (BiocManager 1.30.18), R 4.2.1 (2022-06-23)\n",
            "\n",
            "Installing package(s) 'BiocVersion'\n",
            "\n",
            "Old packages: 'devtools', 'pillar', 'roxygen2', 'tibble', 'tidyverse', 'MASS',\n",
            "  'nlme'\n",
            "\n",
            "'getOption(\"repos\")' replaces Bioconductor standard repositories, see\n",
            "'?repositories' for details\n",
            "\n",
            "replacement repositories:\n",
            "    CRAN: https://cran.rstudio.com\n",
            "\n",
            "\n",
            "Bioconductor version 3.15 (BiocManager 1.30.18), R 4.2.1 (2022-06-23)\n",
            "\n",
            "Warning message:\n",
            "“package(s) not installed when version(s) same as current; use `force = TRUE` to\n",
            "  re-install: 'ggplot2' 'dplyr'”\n",
            "Installing package(s) 'devtools', 'vegan', 'phyloseq', 'ape', 'ggpubr'\n",
            "\n",
            "also installing the dependencies ‘bitops’, ‘numDeriv’, ‘SparseM’, ‘MatrixModels’, ‘minqa’, ‘nloptr’, ‘RcppEigen’, ‘httpuv’, ‘xtable’, ‘fontawesome’, ‘sourcetools’, ‘later’, ‘promises’, ‘textshaping’, ‘Rhdf5lib’, ‘rhdf5filters’, ‘zlibbioc’, ‘RCurl’, ‘GenomeInfoDbData’, ‘carData’, ‘abind’, ‘pbkrtest’, ‘quantreg’, ‘maptools’, ‘lme4’, ‘shiny’, ‘downlit’, ‘ragg’, ‘htmlwidgets’, ‘pixmap’, ‘sp’, ‘rhdf5’, ‘S4Vectors’, ‘IRanges’, ‘XVector’, ‘GenomeInfoDb’, ‘iterators’, ‘corrplot’, ‘car’, ‘miniUI’, ‘pkgdown’, ‘profvis’, ‘roxygen2’, ‘urlchecker’, ‘permute’, ‘ade4’, ‘Biobase’, ‘BiocGenerics’, ‘biomformat’, ‘Biostrings’, ‘foreach’, ‘igraph’, ‘multtest’, ‘plyr’, ‘reshape2’, ‘Rcpp’, ‘ggrepel’, ‘ggsci’, ‘cowplot’, ‘ggsignif’, ‘gridExtra’, ‘polynom’, ‘rstatix’\n",
            "\n",
            "\n",
            "Warning message in install.packages(...):\n",
            "“installation of package ‘textshaping’ had non-zero exit status”\n",
            "Warning message in install.packages(...):\n",
            "“installation of package ‘ragg’ had non-zero exit status”\n",
            "Warning message in install.packages(...):\n",
            "“installation of package ‘pkgdown’ had non-zero exit status”\n",
            "Warning message in install.packages(...):\n",
            "“installation of package ‘devtools’ had non-zero exit status”\n",
            "Old packages: 'devtools', 'pillar', 'roxygen2', 'tibble', 'tidyverse', 'MASS',\n",
            "  'nlme'\n",
            "\n"
          ]
        }
      ]
    },
    {
      "cell_type": "code",
      "source": [
        "BiocManager::install(c(\"tidyr\"))"
      ],
      "metadata": {
        "colab": {
          "base_uri": "https://localhost:8080/"
        },
        "id": "1ex32LSB-1kh",
        "outputId": "452a7850-0b39-4a16-91b9-9ce2ef7feff8"
      },
      "execution_count": 5,
      "outputs": [
        {
          "output_type": "stream",
          "name": "stderr",
          "text": [
            "'getOption(\"repos\")' replaces Bioconductor standard repositories, see\n",
            "'?repositories' for details\n",
            "\n",
            "replacement repositories:\n",
            "    CRAN: https://cran.rstudio.com\n",
            "\n",
            "\n",
            "Bioconductor version 3.15 (BiocManager 1.30.18), R 4.2.1 (2022-06-23)\n",
            "\n",
            "Warning message:\n",
            "“package(s) not installed when version(s) same as current; use `force = TRUE` to\n",
            "  re-install: 'tidyr'”\n",
            "Old packages: 'devtools', 'pillar', 'roxygen2', 'tibble', 'tidyverse', 'MASS',\n",
            "  'nlme'\n",
            "\n"
          ]
        }
      ]
    },
    {
      "cell_type": "code",
      "source": [
        "#Call library\n",
        "library(vegan)\n",
        "library(phyloseq)\n",
        "library(ggplot2)\n",
        "library(ape)\n",
        "library(ggpubr)\n",
        "library(dplyr)\n",
        "library(tidyr)"
      ],
      "metadata": {
        "colab": {
          "base_uri": "https://localhost:8080/"
        },
        "id": "KV0_PEAj7ogr",
        "outputId": "60dc5a12-e7d4-49f6-ad16-a866b0533f92"
      },
      "execution_count": 6,
      "outputs": [
        {
          "output_type": "stream",
          "name": "stderr",
          "text": [
            "Loading required package: permute\n",
            "\n",
            "Loading required package: lattice\n",
            "\n",
            "This is vegan 2.6-2\n",
            "\n",
            "\n",
            "Attaching package: ‘ggpubr’\n",
            "\n",
            "\n",
            "The following object is masked from ‘package:ape’:\n",
            "\n",
            "    rotate\n",
            "\n",
            "\n",
            "\n",
            "Attaching package: ‘dplyr’\n",
            "\n",
            "\n",
            "The following objects are masked from ‘package:stats’:\n",
            "\n",
            "    filter, lag\n",
            "\n",
            "\n",
            "The following objects are masked from ‘package:base’:\n",
            "\n",
            "    intersect, setdiff, setequal, union\n",
            "\n",
            "\n"
          ]
        }
      ]
    },
    {
      "cell_type": "markdown",
      "source": [
        "## 2. Download/upload data from previous steps (from QIIME2)"
      ],
      "metadata": {
        "id": "jIELNyjK8PZ_"
      }
    },
    {
      "cell_type": "code",
      "source": [
        "#results from QIIME2 \n",
        "system(\"wget https://figshare.com/ndownloader/files/36566004 -O level-2.csv\")\n",
        "system(\"wget https://figshare.com/ndownloader/files/36566001 -O level-6.csv\")\n",
        "\n",
        "#manually modified level-6.csv using Excel\n",
        "system(\"wget https://figshare.com/ndownloader/files/36565998 -O taxonomy-genus.txt\")\n",
        "\n",
        "#metadata (manually prepared)\n",
        "system(\"wget https://figshare.com/ndownloader/files/36566034 -O 00.sample-metadata.tsv\")\n",
        "\n",
        "#Note: you can also upload your own data from QIIME2 results (level-2.csv, level-6.csv) to use in this tutorial"
      ],
      "metadata": {
        "id": "VVS1dLtP8bEX"
      },
      "execution_count": 9,
      "outputs": []
    },
    {
      "cell_type": "markdown",
      "source": [
        "## 4. Import abundance tables"
      ],
      "metadata": {
        "id": "-jmKpSjQCOuw"
      }
    },
    {
      "cell_type": "code",
      "source": [
        "taxTabP = read.csv(\"level-2.csv\", row.names = 1, check.names = F)\n",
        "taxTabG = read.csv(\"level-6.csv\", row.names = 1, check.names = F)"
      ],
      "metadata": {
        "id": "ximmepd8CAR0"
      },
      "execution_count": 11,
      "outputs": []
    },
    {
      "cell_type": "markdown",
      "source": [
        "## 5. Formating to matrix"
      ],
      "metadata": {
        "id": "YFhSUvpZCYyC"
      }
    },
    {
      "cell_type": "code",
      "source": [
        "taxMatP = t(as.matrix(taxTabP))\n",
        "taxMatG = t(as.matrix(taxTabG))"
      ],
      "metadata": {
        "id": "6N2t2QqLCahL"
      },
      "execution_count": 12,
      "outputs": []
    },
    {
      "cell_type": "code",
      "source": [
        "head(taxMatP)\n",
        "head(taxMatG)"
      ],
      "metadata": {
        "colab": {
          "base_uri": "https://localhost:8080/",
          "height": 530
        },
        "id": "Eb7YBjAOCf22",
        "outputId": "260a2086-eb2d-4b26-c20b-31d0ed86e254"
      },
      "execution_count": 13,
      "outputs": [
        {
          "output_type": "display_data",
          "data": {
            "text/html": [
              "<table class=\"dataframe\">\n",
              "<caption>A matrix: 6 × 23 of type int</caption>\n",
              "<thead>\n",
              "\t<tr><th></th><th scope=col>P10_V1</th><th scope=col>P9_V1</th><th scope=col>P8_V1</th><th scope=col>P7_V1</th><th scope=col>P6_V1</th><th scope=col>P5_V1</th><th scope=col>P4_V1</th><th scope=col>P9_V3</th><th scope=col>P8_V3</th><th scope=col>P6_V3</th><th scope=col>⋯</th><th scope=col>P10_V2</th><th scope=col>P9_V2</th><th scope=col>P8_V2</th><th scope=col>P7_V2</th><th scope=col>P4_V2</th><th scope=col>P3_V2</th><th scope=col>P2_V2</th><th scope=col>P1_V2</th><th scope=col>P2_V1</th><th scope=col>P1_V1</th></tr>\n",
              "</thead>\n",
              "<tbody>\n",
              "\t<tr><th scope=row>d__Bacteria;p__Bacteroidota</th><td>   45</td><td>19700</td><td>19503</td><td>21174</td><td>16192</td><td>11384</td><td>23157</td><td>21352</td><td>18156</td><td> 9488</td><td>⋯</td><td>   92</td><td>26032</td><td>13630</td><td>  822</td><td>24416</td><td>    3</td><td> 2912</td><td>26361</td><td>25364</td><td>28409</td></tr>\n",
              "\t<tr><th scope=row>d__Bacteria;p__Firmicutes</th><td>  884</td><td>21405</td><td> 9092</td><td> 7270</td><td>17615</td><td>17138</td><td>15309</td><td>17174</td><td>17335</td><td>10695</td><td>⋯</td><td>30063</td><td>14350</td><td>18695</td><td>28138</td><td> 9382</td><td>31836</td><td> 4874</td><td> 9603</td><td>11637</td><td>12382</td></tr>\n",
              "\t<tr><th scope=row>d__Bacteria;p__Proteobacteria</th><td>41498</td><td>  545</td><td> 8758</td><td>11535</td><td> 7978</td><td>14111</td><td> 4115</td><td> 1006</td><td> 7199</td><td>22526</td><td>⋯</td><td>12010</td><td>  693</td><td> 1469</td><td> 6379</td><td> 8879</td><td>   56</td><td>  381</td><td> 5939</td><td>  737</td><td> 1549</td></tr>\n",
              "\t<tr><th scope=row>d__Bacteria;p__Verrucomicrobiota</th><td>   13</td><td>   11</td><td> 5105</td><td> 2605</td><td>   19</td><td>    6</td><td>  121</td><td>   21</td><td>    0</td><td>    0</td><td>⋯</td><td>    0</td><td>   25</td><td> 8829</td><td> 5374</td><td>    9</td><td>    2</td><td>29813</td><td>    2</td><td> 4869</td><td>    0</td></tr>\n",
              "\t<tr><th scope=row>d__Bacteria;p__Spirochaetota</th><td>    0</td><td>    0</td><td>    0</td><td>    0</td><td>    0</td><td>    0</td><td>    0</td><td>    0</td><td>    0</td><td>    0</td><td>⋯</td><td>    0</td><td>    0</td><td>    0</td><td>    0</td><td>    0</td><td>10529</td><td>    0</td><td>    0</td><td>    0</td><td>    0</td></tr>\n",
              "\t<tr><th scope=row>d__Bacteria;p__Actinobacteriota</th><td>    3</td><td>   89</td><td>  262</td><td>  112</td><td>  204</td><td>   26</td><td>   66</td><td> 2065</td><td>   43</td><td>    0</td><td>⋯</td><td>  392</td><td>  399</td><td>   78</td><td> 1752</td><td>    0</td><td>   29</td><td> 4553</td><td>   70</td><td>  108</td><td>   19</td></tr>\n",
              "</tbody>\n",
              "</table>\n"
            ],
            "text/markdown": "\nA matrix: 6 × 23 of type int\n\n| <!--/--> | P10_V1 | P9_V1 | P8_V1 | P7_V1 | P6_V1 | P5_V1 | P4_V1 | P9_V3 | P8_V3 | P6_V3 | ⋯ | P10_V2 | P9_V2 | P8_V2 | P7_V2 | P4_V2 | P3_V2 | P2_V2 | P1_V2 | P2_V1 | P1_V1 |\n|---|---|---|---|---|---|---|---|---|---|---|---|---|---|---|---|---|---|---|---|---|---|\n| d__Bacteria;p__Bacteroidota |    45 | 19700 | 19503 | 21174 | 16192 | 11384 | 23157 | 21352 | 18156 |  9488 | ⋯ |    92 | 26032 | 13630 |   822 | 24416 |     3 |  2912 | 26361 | 25364 | 28409 |\n| d__Bacteria;p__Firmicutes |   884 | 21405 |  9092 |  7270 | 17615 | 17138 | 15309 | 17174 | 17335 | 10695 | ⋯ | 30063 | 14350 | 18695 | 28138 |  9382 | 31836 |  4874 |  9603 | 11637 | 12382 |\n| d__Bacteria;p__Proteobacteria | 41498 |   545 |  8758 | 11535 |  7978 | 14111 |  4115 |  1006 |  7199 | 22526 | ⋯ | 12010 |   693 |  1469 |  6379 |  8879 |    56 |   381 |  5939 |   737 |  1549 |\n| d__Bacteria;p__Verrucomicrobiota |    13 |    11 |  5105 |  2605 |    19 |     6 |   121 |    21 |     0 |     0 | ⋯ |     0 |    25 |  8829 |  5374 |     9 |     2 | 29813 |     2 |  4869 |     0 |\n| d__Bacteria;p__Spirochaetota |     0 |     0 |     0 |     0 |     0 |     0 |     0 |     0 |     0 |     0 | ⋯ |     0 |     0 |     0 |     0 |     0 | 10529 |     0 |     0 |     0 |     0 |\n| d__Bacteria;p__Actinobacteriota |     3 |    89 |   262 |   112 |   204 |    26 |    66 |  2065 |    43 |     0 | ⋯ |   392 |   399 |    78 |  1752 |     0 |    29 |  4553 |    70 |   108 |    19 |\n\n",
            "text/latex": "A matrix: 6 × 23 of type int\n\\begin{tabular}{r|lllllllllllllllllllll}\n  & P10\\_V1 & P9\\_V1 & P8\\_V1 & P7\\_V1 & P6\\_V1 & P5\\_V1 & P4\\_V1 & P9\\_V3 & P8\\_V3 & P6\\_V3 & ⋯ & P10\\_V2 & P9\\_V2 & P8\\_V2 & P7\\_V2 & P4\\_V2 & P3\\_V2 & P2\\_V2 & P1\\_V2 & P2\\_V1 & P1\\_V1\\\\\n\\hline\n\td\\_\\_Bacteria;p\\_\\_Bacteroidota &    45 & 19700 & 19503 & 21174 & 16192 & 11384 & 23157 & 21352 & 18156 &  9488 & ⋯ &    92 & 26032 & 13630 &   822 & 24416 &     3 &  2912 & 26361 & 25364 & 28409\\\\\n\td\\_\\_Bacteria;p\\_\\_Firmicutes &   884 & 21405 &  9092 &  7270 & 17615 & 17138 & 15309 & 17174 & 17335 & 10695 & ⋯ & 30063 & 14350 & 18695 & 28138 &  9382 & 31836 &  4874 &  9603 & 11637 & 12382\\\\\n\td\\_\\_Bacteria;p\\_\\_Proteobacteria & 41498 &   545 &  8758 & 11535 &  7978 & 14111 &  4115 &  1006 &  7199 & 22526 & ⋯ & 12010 &   693 &  1469 &  6379 &  8879 &    56 &   381 &  5939 &   737 &  1549\\\\\n\td\\_\\_Bacteria;p\\_\\_Verrucomicrobiota &    13 &    11 &  5105 &  2605 &    19 &     6 &   121 &    21 &     0 &     0 & ⋯ &     0 &    25 &  8829 &  5374 &     9 &     2 & 29813 &     2 &  4869 &     0\\\\\n\td\\_\\_Bacteria;p\\_\\_Spirochaetota &     0 &     0 &     0 &     0 &     0 &     0 &     0 &     0 &     0 &     0 & ⋯ &     0 &     0 &     0 &     0 &     0 & 10529 &     0 &     0 &     0 &     0\\\\\n\td\\_\\_Bacteria;p\\_\\_Actinobacteriota &     3 &    89 &   262 &   112 &   204 &    26 &    66 &  2065 &    43 &     0 & ⋯ &   392 &   399 &    78 &  1752 &     0 &    29 &  4553 &    70 &   108 &    19\\\\\n\\end{tabular}\n",
            "text/plain": [
              "                                 P10_V1 P9_V1 P8_V1 P7_V1 P6_V1 P5_V1 P4_V1\n",
              "d__Bacteria;p__Bacteroidota         45  19700 19503 21174 16192 11384 23157\n",
              "d__Bacteria;p__Firmicutes          884  21405  9092  7270 17615 17138 15309\n",
              "d__Bacteria;p__Proteobacteria    41498    545  8758 11535  7978 14111  4115\n",
              "d__Bacteria;p__Verrucomicrobiota    13     11  5105  2605    19     6   121\n",
              "d__Bacteria;p__Spirochaetota         0      0     0     0     0     0     0\n",
              "d__Bacteria;p__Actinobacteriota      3     89   262   112   204    26    66\n",
              "                                 P9_V3 P8_V3 P6_V3 ⋯ P10_V2 P9_V2 P8_V2 P7_V2\n",
              "d__Bacteria;p__Bacteroidota      21352 18156  9488 ⋯    92  26032 13630   822\n",
              "d__Bacteria;p__Firmicutes        17174 17335 10695 ⋯ 30063  14350 18695 28138\n",
              "d__Bacteria;p__Proteobacteria     1006  7199 22526 ⋯ 12010    693  1469  6379\n",
              "d__Bacteria;p__Verrucomicrobiota    21     0     0 ⋯     0     25  8829  5374\n",
              "d__Bacteria;p__Spirochaetota         0     0     0 ⋯     0      0     0     0\n",
              "d__Bacteria;p__Actinobacteriota   2065    43     0 ⋯   392    399    78  1752\n",
              "                                 P4_V2 P3_V2 P2_V2 P1_V2 P2_V1 P1_V1\n",
              "d__Bacteria;p__Bacteroidota      24416     3  2912 26361 25364 28409\n",
              "d__Bacteria;p__Firmicutes         9382 31836  4874  9603 11637 12382\n",
              "d__Bacteria;p__Proteobacteria     8879    56   381  5939   737  1549\n",
              "d__Bacteria;p__Verrucomicrobiota     9     2 29813     2  4869     0\n",
              "d__Bacteria;p__Spirochaetota         0 10529     0     0     0     0\n",
              "d__Bacteria;p__Actinobacteriota      0    29  4553    70   108    19"
            ]
          },
          "metadata": {}
        },
        {
          "output_type": "display_data",
          "data": {
            "text/html": [
              "<table class=\"dataframe\">\n",
              "<caption>A matrix: 6 × 23 of type int</caption>\n",
              "<thead>\n",
              "\t<tr><th></th><th scope=col>P10_V1</th><th scope=col>P9_V1</th><th scope=col>P8_V1</th><th scope=col>P7_V1</th><th scope=col>P6_V1</th><th scope=col>P5_V1</th><th scope=col>P4_V1</th><th scope=col>P9_V3</th><th scope=col>P8_V3</th><th scope=col>P6_V3</th><th scope=col>⋯</th><th scope=col>P10_V2</th><th scope=col>P9_V2</th><th scope=col>P8_V2</th><th scope=col>P7_V2</th><th scope=col>P4_V2</th><th scope=col>P3_V2</th><th scope=col>P2_V2</th><th scope=col>P1_V2</th><th scope=col>P2_V1</th><th scope=col>P1_V1</th></tr>\n",
              "</thead>\n",
              "<tbody>\n",
              "\t<tr><th scope=row>d__Bacteria;p__Bacteroidota;c__Bacteroidia;o__Bacteroidales;f__Bacteroidaceae;g__Bacteroides</th><td>   38</td><td>16028</td><td>19502</td><td>17338</td><td>4105</td><td> 270</td><td>22757</td><td>13186</td><td>18146</td><td>9488</td><td>⋯</td><td>   54</td><td>15172</td><td>13618</td><td> 511</td><td>24386</td><td>    3</td><td> 2645</td><td>26017</td><td>24255</td><td>25499</td></tr>\n",
              "\t<tr><th scope=row>d__Bacteria;p__Firmicutes;c__Bacilli;o__Lactobacillales;f__Enterococcaceae;g__Enterococcus</th><td>  380</td><td>    0</td><td>   14</td><td>  262</td><td>   7</td><td> 261</td><td>   29</td><td>    2</td><td>   63</td><td>  40</td><td>⋯</td><td>27583</td><td>   68</td><td> 9663</td><td>  11</td><td> 4764</td><td>23460</td><td>   11</td><td>   13</td><td>    0</td><td>    0</td></tr>\n",
              "\t<tr><th scope=row>d__Bacteria;p__Proteobacteria;c__Gammaproteobacteria;o__Enterobacterales;f__Enterobacteriaceae;g__Escherichia-Shigella</th><td>41497</td><td>  193</td><td> 8609</td><td>10648</td><td> 952</td><td>4404</td><td>  935</td><td>  288</td><td> 1307</td><td>3933</td><td>⋯</td><td>11978</td><td>  251</td><td>  256</td><td>  10</td><td>   33</td><td>    0</td><td>   79</td><td> 5234</td><td>  334</td><td> 1502</td></tr>\n",
              "\t<tr><th scope=row>d__Bacteria;p__Verrucomicrobiota;c__Verrucomicrobiae;o__Verrucomicrobiales;f__Akkermansiaceae;g__Akkermansia</th><td>   13</td><td>   11</td><td> 5105</td><td> 2605</td><td>   4</td><td>   6</td><td>  121</td><td>    0</td><td>    0</td><td>   0</td><td>⋯</td><td>    0</td><td>    0</td><td> 8829</td><td>5374</td><td>    9</td><td>    2</td><td>29813</td><td>    2</td><td> 4869</td><td>    0</td></tr>\n",
              "\t<tr><th scope=row>d__Bacteria;p__Firmicutes;c__Clostridia;o__Lachnospirales;f__Lachnospiraceae;g__Lachnoclostridium</th><td>    5</td><td>  208</td><td>  226</td><td>  171</td><td> 443</td><td>5768</td><td> 4761</td><td>  243</td><td>  434</td><td> 107</td><td>⋯</td><td>    3</td><td>   93</td><td> 7081</td><td> 816</td><td>    0</td><td>    0</td><td> 1291</td><td>  389</td><td> 1342</td><td> 1023</td></tr>\n",
              "\t<tr><th scope=row>d__Bacteria;p__Spirochaetota;c__Spirochaetia;o__Spirochaetales;f__Spirochaetaceae;g__Sphaerochaeta</th><td>    0</td><td>    0</td><td>    0</td><td>    0</td><td>   0</td><td>   0</td><td>    0</td><td>    0</td><td>    0</td><td>   0</td><td>⋯</td><td>    0</td><td>    0</td><td>    0</td><td>   0</td><td>    0</td><td>10358</td><td>    0</td><td>    0</td><td>    0</td><td>    0</td></tr>\n",
              "</tbody>\n",
              "</table>\n"
            ],
            "text/markdown": "\nA matrix: 6 × 23 of type int\n\n| <!--/--> | P10_V1 | P9_V1 | P8_V1 | P7_V1 | P6_V1 | P5_V1 | P4_V1 | P9_V3 | P8_V3 | P6_V3 | ⋯ | P10_V2 | P9_V2 | P8_V2 | P7_V2 | P4_V2 | P3_V2 | P2_V2 | P1_V2 | P2_V1 | P1_V1 |\n|---|---|---|---|---|---|---|---|---|---|---|---|---|---|---|---|---|---|---|---|---|---|\n| d__Bacteria;p__Bacteroidota;c__Bacteroidia;o__Bacteroidales;f__Bacteroidaceae;g__Bacteroides |    38 | 16028 | 19502 | 17338 | 4105 |  270 | 22757 | 13186 | 18146 | 9488 | ⋯ |    54 | 15172 | 13618 |  511 | 24386 |     3 |  2645 | 26017 | 24255 | 25499 |\n| d__Bacteria;p__Firmicutes;c__Bacilli;o__Lactobacillales;f__Enterococcaceae;g__Enterococcus |   380 |     0 |    14 |   262 |    7 |  261 |    29 |     2 |    63 |   40 | ⋯ | 27583 |    68 |  9663 |   11 |  4764 | 23460 |    11 |    13 |     0 |     0 |\n| d__Bacteria;p__Proteobacteria;c__Gammaproteobacteria;o__Enterobacterales;f__Enterobacteriaceae;g__Escherichia-Shigella | 41497 |   193 |  8609 | 10648 |  952 | 4404 |   935 |   288 |  1307 | 3933 | ⋯ | 11978 |   251 |   256 |   10 |    33 |     0 |    79 |  5234 |   334 |  1502 |\n| d__Bacteria;p__Verrucomicrobiota;c__Verrucomicrobiae;o__Verrucomicrobiales;f__Akkermansiaceae;g__Akkermansia |    13 |    11 |  5105 |  2605 |    4 |    6 |   121 |     0 |     0 |    0 | ⋯ |     0 |     0 |  8829 | 5374 |     9 |     2 | 29813 |     2 |  4869 |     0 |\n| d__Bacteria;p__Firmicutes;c__Clostridia;o__Lachnospirales;f__Lachnospiraceae;g__Lachnoclostridium |     5 |   208 |   226 |   171 |  443 | 5768 |  4761 |   243 |   434 |  107 | ⋯ |     3 |    93 |  7081 |  816 |     0 |     0 |  1291 |   389 |  1342 |  1023 |\n| d__Bacteria;p__Spirochaetota;c__Spirochaetia;o__Spirochaetales;f__Spirochaetaceae;g__Sphaerochaeta |     0 |     0 |     0 |     0 |    0 |    0 |     0 |     0 |     0 |    0 | ⋯ |     0 |     0 |     0 |    0 |     0 | 10358 |     0 |     0 |     0 |     0 |\n\n",
            "text/latex": "A matrix: 6 × 23 of type int\n\\begin{tabular}{r|lllllllllllllllllllll}\n  & P10\\_V1 & P9\\_V1 & P8\\_V1 & P7\\_V1 & P6\\_V1 & P5\\_V1 & P4\\_V1 & P9\\_V3 & P8\\_V3 & P6\\_V3 & ⋯ & P10\\_V2 & P9\\_V2 & P8\\_V2 & P7\\_V2 & P4\\_V2 & P3\\_V2 & P2\\_V2 & P1\\_V2 & P2\\_V1 & P1\\_V1\\\\\n\\hline\n\td\\_\\_Bacteria;p\\_\\_Bacteroidota;c\\_\\_Bacteroidia;o\\_\\_Bacteroidales;f\\_\\_Bacteroidaceae;g\\_\\_Bacteroides &    38 & 16028 & 19502 & 17338 & 4105 &  270 & 22757 & 13186 & 18146 & 9488 & ⋯ &    54 & 15172 & 13618 &  511 & 24386 &     3 &  2645 & 26017 & 24255 & 25499\\\\\n\td\\_\\_Bacteria;p\\_\\_Firmicutes;c\\_\\_Bacilli;o\\_\\_Lactobacillales;f\\_\\_Enterococcaceae;g\\_\\_Enterococcus &   380 &     0 &    14 &   262 &    7 &  261 &    29 &     2 &    63 &   40 & ⋯ & 27583 &    68 &  9663 &   11 &  4764 & 23460 &    11 &    13 &     0 &     0\\\\\n\td\\_\\_Bacteria;p\\_\\_Proteobacteria;c\\_\\_Gammaproteobacteria;o\\_\\_Enterobacterales;f\\_\\_Enterobacteriaceae;g\\_\\_Escherichia-Shigella & 41497 &   193 &  8609 & 10648 &  952 & 4404 &   935 &   288 &  1307 & 3933 & ⋯ & 11978 &   251 &   256 &   10 &    33 &     0 &    79 &  5234 &   334 &  1502\\\\\n\td\\_\\_Bacteria;p\\_\\_Verrucomicrobiota;c\\_\\_Verrucomicrobiae;o\\_\\_Verrucomicrobiales;f\\_\\_Akkermansiaceae;g\\_\\_Akkermansia &    13 &    11 &  5105 &  2605 &    4 &    6 &   121 &     0 &     0 &    0 & ⋯ &     0 &     0 &  8829 & 5374 &     9 &     2 & 29813 &     2 &  4869 &     0\\\\\n\td\\_\\_Bacteria;p\\_\\_Firmicutes;c\\_\\_Clostridia;o\\_\\_Lachnospirales;f\\_\\_Lachnospiraceae;g\\_\\_Lachnoclostridium &     5 &   208 &   226 &   171 &  443 & 5768 &  4761 &   243 &   434 &  107 & ⋯ &     3 &    93 &  7081 &  816 &     0 &     0 &  1291 &   389 &  1342 &  1023\\\\\n\td\\_\\_Bacteria;p\\_\\_Spirochaetota;c\\_\\_Spirochaetia;o\\_\\_Spirochaetales;f\\_\\_Spirochaetaceae;g\\_\\_Sphaerochaeta &     0 &     0 &     0 &     0 &    0 &    0 &     0 &     0 &     0 &    0 & ⋯ &     0 &     0 &     0 &    0 &     0 & 10358 &     0 &     0 &     0 &     0\\\\\n\\end{tabular}\n",
            "text/plain": [
              "                                                                                                                       P10_V1\n",
              "d__Bacteria;p__Bacteroidota;c__Bacteroidia;o__Bacteroidales;f__Bacteroidaceae;g__Bacteroides                              38 \n",
              "d__Bacteria;p__Firmicutes;c__Bacilli;o__Lactobacillales;f__Enterococcaceae;g__Enterococcus                               380 \n",
              "d__Bacteria;p__Proteobacteria;c__Gammaproteobacteria;o__Enterobacterales;f__Enterobacteriaceae;g__Escherichia-Shigella 41497 \n",
              "d__Bacteria;p__Verrucomicrobiota;c__Verrucomicrobiae;o__Verrucomicrobiales;f__Akkermansiaceae;g__Akkermansia              13 \n",
              "d__Bacteria;p__Firmicutes;c__Clostridia;o__Lachnospirales;f__Lachnospiraceae;g__Lachnoclostridium                          5 \n",
              "d__Bacteria;p__Spirochaetota;c__Spirochaetia;o__Spirochaetales;f__Spirochaetaceae;g__Sphaerochaeta                         0 \n",
              "                                                                                                                       P9_V1\n",
              "d__Bacteria;p__Bacteroidota;c__Bacteroidia;o__Bacteroidales;f__Bacteroidaceae;g__Bacteroides                           16028\n",
              "d__Bacteria;p__Firmicutes;c__Bacilli;o__Lactobacillales;f__Enterococcaceae;g__Enterococcus                                 0\n",
              "d__Bacteria;p__Proteobacteria;c__Gammaproteobacteria;o__Enterobacterales;f__Enterobacteriaceae;g__Escherichia-Shigella   193\n",
              "d__Bacteria;p__Verrucomicrobiota;c__Verrucomicrobiae;o__Verrucomicrobiales;f__Akkermansiaceae;g__Akkermansia              11\n",
              "d__Bacteria;p__Firmicutes;c__Clostridia;o__Lachnospirales;f__Lachnospiraceae;g__Lachnoclostridium                        208\n",
              "d__Bacteria;p__Spirochaetota;c__Spirochaetia;o__Spirochaetales;f__Spirochaetaceae;g__Sphaerochaeta                         0\n",
              "                                                                                                                       P8_V1\n",
              "d__Bacteria;p__Bacteroidota;c__Bacteroidia;o__Bacteroidales;f__Bacteroidaceae;g__Bacteroides                           19502\n",
              "d__Bacteria;p__Firmicutes;c__Bacilli;o__Lactobacillales;f__Enterococcaceae;g__Enterococcus                                14\n",
              "d__Bacteria;p__Proteobacteria;c__Gammaproteobacteria;o__Enterobacterales;f__Enterobacteriaceae;g__Escherichia-Shigella  8609\n",
              "d__Bacteria;p__Verrucomicrobiota;c__Verrucomicrobiae;o__Verrucomicrobiales;f__Akkermansiaceae;g__Akkermansia            5105\n",
              "d__Bacteria;p__Firmicutes;c__Clostridia;o__Lachnospirales;f__Lachnospiraceae;g__Lachnoclostridium                        226\n",
              "d__Bacteria;p__Spirochaetota;c__Spirochaetia;o__Spirochaetales;f__Spirochaetaceae;g__Sphaerochaeta                         0\n",
              "                                                                                                                       P7_V1\n",
              "d__Bacteria;p__Bacteroidota;c__Bacteroidia;o__Bacteroidales;f__Bacteroidaceae;g__Bacteroides                           17338\n",
              "d__Bacteria;p__Firmicutes;c__Bacilli;o__Lactobacillales;f__Enterococcaceae;g__Enterococcus                               262\n",
              "d__Bacteria;p__Proteobacteria;c__Gammaproteobacteria;o__Enterobacterales;f__Enterobacteriaceae;g__Escherichia-Shigella 10648\n",
              "d__Bacteria;p__Verrucomicrobiota;c__Verrucomicrobiae;o__Verrucomicrobiales;f__Akkermansiaceae;g__Akkermansia            2605\n",
              "d__Bacteria;p__Firmicutes;c__Clostridia;o__Lachnospirales;f__Lachnospiraceae;g__Lachnoclostridium                        171\n",
              "d__Bacteria;p__Spirochaetota;c__Spirochaetia;o__Spirochaetales;f__Spirochaetaceae;g__Sphaerochaeta                         0\n",
              "                                                                                                                       P6_V1\n",
              "d__Bacteria;p__Bacteroidota;c__Bacteroidia;o__Bacteroidales;f__Bacteroidaceae;g__Bacteroides                           4105 \n",
              "d__Bacteria;p__Firmicutes;c__Bacilli;o__Lactobacillales;f__Enterococcaceae;g__Enterococcus                                7 \n",
              "d__Bacteria;p__Proteobacteria;c__Gammaproteobacteria;o__Enterobacterales;f__Enterobacteriaceae;g__Escherichia-Shigella  952 \n",
              "d__Bacteria;p__Verrucomicrobiota;c__Verrucomicrobiae;o__Verrucomicrobiales;f__Akkermansiaceae;g__Akkermansia              4 \n",
              "d__Bacteria;p__Firmicutes;c__Clostridia;o__Lachnospirales;f__Lachnospiraceae;g__Lachnoclostridium                       443 \n",
              "d__Bacteria;p__Spirochaetota;c__Spirochaetia;o__Spirochaetales;f__Spirochaetaceae;g__Sphaerochaeta                        0 \n",
              "                                                                                                                       P5_V1\n",
              "d__Bacteria;p__Bacteroidota;c__Bacteroidia;o__Bacteroidales;f__Bacteroidaceae;g__Bacteroides                            270 \n",
              "d__Bacteria;p__Firmicutes;c__Bacilli;o__Lactobacillales;f__Enterococcaceae;g__Enterococcus                              261 \n",
              "d__Bacteria;p__Proteobacteria;c__Gammaproteobacteria;o__Enterobacterales;f__Enterobacteriaceae;g__Escherichia-Shigella 4404 \n",
              "d__Bacteria;p__Verrucomicrobiota;c__Verrucomicrobiae;o__Verrucomicrobiales;f__Akkermansiaceae;g__Akkermansia              6 \n",
              "d__Bacteria;p__Firmicutes;c__Clostridia;o__Lachnospirales;f__Lachnospiraceae;g__Lachnoclostridium                      5768 \n",
              "d__Bacteria;p__Spirochaetota;c__Spirochaetia;o__Spirochaetales;f__Spirochaetaceae;g__Sphaerochaeta                        0 \n",
              "                                                                                                                       P4_V1\n",
              "d__Bacteria;p__Bacteroidota;c__Bacteroidia;o__Bacteroidales;f__Bacteroidaceae;g__Bacteroides                           22757\n",
              "d__Bacteria;p__Firmicutes;c__Bacilli;o__Lactobacillales;f__Enterococcaceae;g__Enterococcus                                29\n",
              "d__Bacteria;p__Proteobacteria;c__Gammaproteobacteria;o__Enterobacterales;f__Enterobacteriaceae;g__Escherichia-Shigella   935\n",
              "d__Bacteria;p__Verrucomicrobiota;c__Verrucomicrobiae;o__Verrucomicrobiales;f__Akkermansiaceae;g__Akkermansia             121\n",
              "d__Bacteria;p__Firmicutes;c__Clostridia;o__Lachnospirales;f__Lachnospiraceae;g__Lachnoclostridium                       4761\n",
              "d__Bacteria;p__Spirochaetota;c__Spirochaetia;o__Spirochaetales;f__Spirochaetaceae;g__Sphaerochaeta                         0\n",
              "                                                                                                                       P9_V3\n",
              "d__Bacteria;p__Bacteroidota;c__Bacteroidia;o__Bacteroidales;f__Bacteroidaceae;g__Bacteroides                           13186\n",
              "d__Bacteria;p__Firmicutes;c__Bacilli;o__Lactobacillales;f__Enterococcaceae;g__Enterococcus                                 2\n",
              "d__Bacteria;p__Proteobacteria;c__Gammaproteobacteria;o__Enterobacterales;f__Enterobacteriaceae;g__Escherichia-Shigella   288\n",
              "d__Bacteria;p__Verrucomicrobiota;c__Verrucomicrobiae;o__Verrucomicrobiales;f__Akkermansiaceae;g__Akkermansia               0\n",
              "d__Bacteria;p__Firmicutes;c__Clostridia;o__Lachnospirales;f__Lachnospiraceae;g__Lachnoclostridium                        243\n",
              "d__Bacteria;p__Spirochaetota;c__Spirochaetia;o__Spirochaetales;f__Spirochaetaceae;g__Sphaerochaeta                         0\n",
              "                                                                                                                       P8_V3\n",
              "d__Bacteria;p__Bacteroidota;c__Bacteroidia;o__Bacteroidales;f__Bacteroidaceae;g__Bacteroides                           18146\n",
              "d__Bacteria;p__Firmicutes;c__Bacilli;o__Lactobacillales;f__Enterococcaceae;g__Enterococcus                                63\n",
              "d__Bacteria;p__Proteobacteria;c__Gammaproteobacteria;o__Enterobacterales;f__Enterobacteriaceae;g__Escherichia-Shigella  1307\n",
              "d__Bacteria;p__Verrucomicrobiota;c__Verrucomicrobiae;o__Verrucomicrobiales;f__Akkermansiaceae;g__Akkermansia               0\n",
              "d__Bacteria;p__Firmicutes;c__Clostridia;o__Lachnospirales;f__Lachnospiraceae;g__Lachnoclostridium                        434\n",
              "d__Bacteria;p__Spirochaetota;c__Spirochaetia;o__Spirochaetales;f__Spirochaetaceae;g__Sphaerochaeta                         0\n",
              "                                                                                                                       P6_V3\n",
              "d__Bacteria;p__Bacteroidota;c__Bacteroidia;o__Bacteroidales;f__Bacteroidaceae;g__Bacteroides                           9488 \n",
              "d__Bacteria;p__Firmicutes;c__Bacilli;o__Lactobacillales;f__Enterococcaceae;g__Enterococcus                               40 \n",
              "d__Bacteria;p__Proteobacteria;c__Gammaproteobacteria;o__Enterobacterales;f__Enterobacteriaceae;g__Escherichia-Shigella 3933 \n",
              "d__Bacteria;p__Verrucomicrobiota;c__Verrucomicrobiae;o__Verrucomicrobiales;f__Akkermansiaceae;g__Akkermansia              0 \n",
              "d__Bacteria;p__Firmicutes;c__Clostridia;o__Lachnospirales;f__Lachnospiraceae;g__Lachnoclostridium                       107 \n",
              "d__Bacteria;p__Spirochaetota;c__Spirochaetia;o__Spirochaetales;f__Spirochaetaceae;g__Sphaerochaeta                        0 \n",
              "                                                                                                                       ⋯\n",
              "d__Bacteria;p__Bacteroidota;c__Bacteroidia;o__Bacteroidales;f__Bacteroidaceae;g__Bacteroides                           ⋯\n",
              "d__Bacteria;p__Firmicutes;c__Bacilli;o__Lactobacillales;f__Enterococcaceae;g__Enterococcus                             ⋯\n",
              "d__Bacteria;p__Proteobacteria;c__Gammaproteobacteria;o__Enterobacterales;f__Enterobacteriaceae;g__Escherichia-Shigella ⋯\n",
              "d__Bacteria;p__Verrucomicrobiota;c__Verrucomicrobiae;o__Verrucomicrobiales;f__Akkermansiaceae;g__Akkermansia           ⋯\n",
              "d__Bacteria;p__Firmicutes;c__Clostridia;o__Lachnospirales;f__Lachnospiraceae;g__Lachnoclostridium                      ⋯\n",
              "d__Bacteria;p__Spirochaetota;c__Spirochaetia;o__Spirochaetales;f__Spirochaetaceae;g__Sphaerochaeta                     ⋯\n",
              "                                                                                                                       P10_V2\n",
              "d__Bacteria;p__Bacteroidota;c__Bacteroidia;o__Bacteroidales;f__Bacteroidaceae;g__Bacteroides                              54 \n",
              "d__Bacteria;p__Firmicutes;c__Bacilli;o__Lactobacillales;f__Enterococcaceae;g__Enterococcus                             27583 \n",
              "d__Bacteria;p__Proteobacteria;c__Gammaproteobacteria;o__Enterobacterales;f__Enterobacteriaceae;g__Escherichia-Shigella 11978 \n",
              "d__Bacteria;p__Verrucomicrobiota;c__Verrucomicrobiae;o__Verrucomicrobiales;f__Akkermansiaceae;g__Akkermansia               0 \n",
              "d__Bacteria;p__Firmicutes;c__Clostridia;o__Lachnospirales;f__Lachnospiraceae;g__Lachnoclostridium                          3 \n",
              "d__Bacteria;p__Spirochaetota;c__Spirochaetia;o__Spirochaetales;f__Spirochaetaceae;g__Sphaerochaeta                         0 \n",
              "                                                                                                                       P9_V2\n",
              "d__Bacteria;p__Bacteroidota;c__Bacteroidia;o__Bacteroidales;f__Bacteroidaceae;g__Bacteroides                           15172\n",
              "d__Bacteria;p__Firmicutes;c__Bacilli;o__Lactobacillales;f__Enterococcaceae;g__Enterococcus                                68\n",
              "d__Bacteria;p__Proteobacteria;c__Gammaproteobacteria;o__Enterobacterales;f__Enterobacteriaceae;g__Escherichia-Shigella   251\n",
              "d__Bacteria;p__Verrucomicrobiota;c__Verrucomicrobiae;o__Verrucomicrobiales;f__Akkermansiaceae;g__Akkermansia               0\n",
              "d__Bacteria;p__Firmicutes;c__Clostridia;o__Lachnospirales;f__Lachnospiraceae;g__Lachnoclostridium                         93\n",
              "d__Bacteria;p__Spirochaetota;c__Spirochaetia;o__Spirochaetales;f__Spirochaetaceae;g__Sphaerochaeta                         0\n",
              "                                                                                                                       P8_V2\n",
              "d__Bacteria;p__Bacteroidota;c__Bacteroidia;o__Bacteroidales;f__Bacteroidaceae;g__Bacteroides                           13618\n",
              "d__Bacteria;p__Firmicutes;c__Bacilli;o__Lactobacillales;f__Enterococcaceae;g__Enterococcus                              9663\n",
              "d__Bacteria;p__Proteobacteria;c__Gammaproteobacteria;o__Enterobacterales;f__Enterobacteriaceae;g__Escherichia-Shigella   256\n",
              "d__Bacteria;p__Verrucomicrobiota;c__Verrucomicrobiae;o__Verrucomicrobiales;f__Akkermansiaceae;g__Akkermansia            8829\n",
              "d__Bacteria;p__Firmicutes;c__Clostridia;o__Lachnospirales;f__Lachnospiraceae;g__Lachnoclostridium                       7081\n",
              "d__Bacteria;p__Spirochaetota;c__Spirochaetia;o__Spirochaetales;f__Spirochaetaceae;g__Sphaerochaeta                         0\n",
              "                                                                                                                       P7_V2\n",
              "d__Bacteria;p__Bacteroidota;c__Bacteroidia;o__Bacteroidales;f__Bacteroidaceae;g__Bacteroides                            511 \n",
              "d__Bacteria;p__Firmicutes;c__Bacilli;o__Lactobacillales;f__Enterococcaceae;g__Enterococcus                               11 \n",
              "d__Bacteria;p__Proteobacteria;c__Gammaproteobacteria;o__Enterobacterales;f__Enterobacteriaceae;g__Escherichia-Shigella   10 \n",
              "d__Bacteria;p__Verrucomicrobiota;c__Verrucomicrobiae;o__Verrucomicrobiales;f__Akkermansiaceae;g__Akkermansia           5374 \n",
              "d__Bacteria;p__Firmicutes;c__Clostridia;o__Lachnospirales;f__Lachnospiraceae;g__Lachnoclostridium                       816 \n",
              "d__Bacteria;p__Spirochaetota;c__Spirochaetia;o__Spirochaetales;f__Spirochaetaceae;g__Sphaerochaeta                        0 \n",
              "                                                                                                                       P4_V2\n",
              "d__Bacteria;p__Bacteroidota;c__Bacteroidia;o__Bacteroidales;f__Bacteroidaceae;g__Bacteroides                           24386\n",
              "d__Bacteria;p__Firmicutes;c__Bacilli;o__Lactobacillales;f__Enterococcaceae;g__Enterococcus                              4764\n",
              "d__Bacteria;p__Proteobacteria;c__Gammaproteobacteria;o__Enterobacterales;f__Enterobacteriaceae;g__Escherichia-Shigella    33\n",
              "d__Bacteria;p__Verrucomicrobiota;c__Verrucomicrobiae;o__Verrucomicrobiales;f__Akkermansiaceae;g__Akkermansia               9\n",
              "d__Bacteria;p__Firmicutes;c__Clostridia;o__Lachnospirales;f__Lachnospiraceae;g__Lachnoclostridium                          0\n",
              "d__Bacteria;p__Spirochaetota;c__Spirochaetia;o__Spirochaetales;f__Spirochaetaceae;g__Sphaerochaeta                         0\n",
              "                                                                                                                       P3_V2\n",
              "d__Bacteria;p__Bacteroidota;c__Bacteroidia;o__Bacteroidales;f__Bacteroidaceae;g__Bacteroides                               3\n",
              "d__Bacteria;p__Firmicutes;c__Bacilli;o__Lactobacillales;f__Enterococcaceae;g__Enterococcus                             23460\n",
              "d__Bacteria;p__Proteobacteria;c__Gammaproteobacteria;o__Enterobacterales;f__Enterobacteriaceae;g__Escherichia-Shigella     0\n",
              "d__Bacteria;p__Verrucomicrobiota;c__Verrucomicrobiae;o__Verrucomicrobiales;f__Akkermansiaceae;g__Akkermansia               2\n",
              "d__Bacteria;p__Firmicutes;c__Clostridia;o__Lachnospirales;f__Lachnospiraceae;g__Lachnoclostridium                          0\n",
              "d__Bacteria;p__Spirochaetota;c__Spirochaetia;o__Spirochaetales;f__Spirochaetaceae;g__Sphaerochaeta                     10358\n",
              "                                                                                                                       P2_V2\n",
              "d__Bacteria;p__Bacteroidota;c__Bacteroidia;o__Bacteroidales;f__Bacteroidaceae;g__Bacteroides                            2645\n",
              "d__Bacteria;p__Firmicutes;c__Bacilli;o__Lactobacillales;f__Enterococcaceae;g__Enterococcus                                11\n",
              "d__Bacteria;p__Proteobacteria;c__Gammaproteobacteria;o__Enterobacterales;f__Enterobacteriaceae;g__Escherichia-Shigella    79\n",
              "d__Bacteria;p__Verrucomicrobiota;c__Verrucomicrobiae;o__Verrucomicrobiales;f__Akkermansiaceae;g__Akkermansia           29813\n",
              "d__Bacteria;p__Firmicutes;c__Clostridia;o__Lachnospirales;f__Lachnospiraceae;g__Lachnoclostridium                       1291\n",
              "d__Bacteria;p__Spirochaetota;c__Spirochaetia;o__Spirochaetales;f__Spirochaetaceae;g__Sphaerochaeta                         0\n",
              "                                                                                                                       P1_V2\n",
              "d__Bacteria;p__Bacteroidota;c__Bacteroidia;o__Bacteroidales;f__Bacteroidaceae;g__Bacteroides                           26017\n",
              "d__Bacteria;p__Firmicutes;c__Bacilli;o__Lactobacillales;f__Enterococcaceae;g__Enterococcus                                13\n",
              "d__Bacteria;p__Proteobacteria;c__Gammaproteobacteria;o__Enterobacterales;f__Enterobacteriaceae;g__Escherichia-Shigella  5234\n",
              "d__Bacteria;p__Verrucomicrobiota;c__Verrucomicrobiae;o__Verrucomicrobiales;f__Akkermansiaceae;g__Akkermansia               2\n",
              "d__Bacteria;p__Firmicutes;c__Clostridia;o__Lachnospirales;f__Lachnospiraceae;g__Lachnoclostridium                        389\n",
              "d__Bacteria;p__Spirochaetota;c__Spirochaetia;o__Spirochaetales;f__Spirochaetaceae;g__Sphaerochaeta                         0\n",
              "                                                                                                                       P2_V1\n",
              "d__Bacteria;p__Bacteroidota;c__Bacteroidia;o__Bacteroidales;f__Bacteroidaceae;g__Bacteroides                           24255\n",
              "d__Bacteria;p__Firmicutes;c__Bacilli;o__Lactobacillales;f__Enterococcaceae;g__Enterococcus                                 0\n",
              "d__Bacteria;p__Proteobacteria;c__Gammaproteobacteria;o__Enterobacterales;f__Enterobacteriaceae;g__Escherichia-Shigella   334\n",
              "d__Bacteria;p__Verrucomicrobiota;c__Verrucomicrobiae;o__Verrucomicrobiales;f__Akkermansiaceae;g__Akkermansia            4869\n",
              "d__Bacteria;p__Firmicutes;c__Clostridia;o__Lachnospirales;f__Lachnospiraceae;g__Lachnoclostridium                       1342\n",
              "d__Bacteria;p__Spirochaetota;c__Spirochaetia;o__Spirochaetales;f__Spirochaetaceae;g__Sphaerochaeta                         0\n",
              "                                                                                                                       P1_V1\n",
              "d__Bacteria;p__Bacteroidota;c__Bacteroidia;o__Bacteroidales;f__Bacteroidaceae;g__Bacteroides                           25499\n",
              "d__Bacteria;p__Firmicutes;c__Bacilli;o__Lactobacillales;f__Enterococcaceae;g__Enterococcus                                 0\n",
              "d__Bacteria;p__Proteobacteria;c__Gammaproteobacteria;o__Enterobacterales;f__Enterobacteriaceae;g__Escherichia-Shigella  1502\n",
              "d__Bacteria;p__Verrucomicrobiota;c__Verrucomicrobiae;o__Verrucomicrobiales;f__Akkermansiaceae;g__Akkermansia               0\n",
              "d__Bacteria;p__Firmicutes;c__Clostridia;o__Lachnospirales;f__Lachnospiraceae;g__Lachnoclostridium                       1023\n",
              "d__Bacteria;p__Spirochaetota;c__Spirochaetia;o__Spirochaetales;f__Spirochaetaceae;g__Sphaerochaeta                         0"
            ]
          },
          "metadata": {}
        }
      ]
    },
    {
      "cell_type": "markdown",
      "source": [
        "## 6. Import metadata"
      ],
      "metadata": {
        "id": "gO7z8tFUCdXt"
      }
    },
    {
      "cell_type": "code",
      "source": [
        "metaTab = read.table(\"00.sample-metadata.tsv\", header = T, sep = \"\\t\", check.names = F)"
      ],
      "metadata": {
        "id": "EX6hxsT6CmHi"
      },
      "execution_count": 15,
      "outputs": []
    },
    {
      "cell_type": "code",
      "source": [
        "head(metaTab)"
      ],
      "metadata": {
        "colab": {
          "base_uri": "https://localhost:8080/",
          "height": 286
        },
        "id": "OdskAxDWCqmr",
        "outputId": "49860a9a-927b-412c-bc16-3bd866332e4f"
      },
      "execution_count": 16,
      "outputs": [
        {
          "output_type": "display_data",
          "data": {
            "text/html": [
              "<table class=\"dataframe\">\n",
              "<caption>A data.frame: 6 × 6</caption>\n",
              "<thead>\n",
              "\t<tr><th></th><th scope=col>sample-id</th><th scope=col>patient-id</th><th scope=col>gender</th><th scope=col>age</th><th scope=col>time-to-neutropenia</th><th scope=col>microbiological-defined-events</th></tr>\n",
              "\t<tr><th></th><th scope=col>&lt;chr&gt;</th><th scope=col>&lt;chr&gt;</th><th scope=col>&lt;chr&gt;</th><th scope=col>&lt;int&gt;</th><th scope=col>&lt;int&gt;</th><th scope=col>&lt;chr&gt;</th></tr>\n",
              "</thead>\n",
              "<tbody>\n",
              "\t<tr><th scope=row>1</th><td>SRR12595782</td><td>P1_V1 </td><td>male  </td><td>41</td><td> 9</td><td>none</td></tr>\n",
              "\t<tr><th scope=row>2</th><td>SRR12595780</td><td>P1_V2 </td><td>male  </td><td>41</td><td> 9</td><td>none</td></tr>\n",
              "\t<tr><th scope=row>3</th><td>SRR12595759</td><td>P10_V1</td><td>female</td><td>20</td><td>10</td><td>IPA </td></tr>\n",
              "\t<tr><th scope=row>4</th><td>SRR12595772</td><td>P10_V2</td><td>female</td><td>20</td><td>10</td><td>IPA </td></tr>\n",
              "\t<tr><th scope=row>5</th><td>SRR12595781</td><td>P2_V1 </td><td>female</td><td>37</td><td>13</td><td>none</td></tr>\n",
              "\t<tr><th scope=row>6</th><td>SRR12595779</td><td>P2_V2 </td><td>female</td><td>37</td><td>13</td><td>none</td></tr>\n",
              "</tbody>\n",
              "</table>\n"
            ],
            "text/markdown": "\nA data.frame: 6 × 6\n\n| <!--/--> | sample-id &lt;chr&gt; | patient-id &lt;chr&gt; | gender &lt;chr&gt; | age &lt;int&gt; | time-to-neutropenia &lt;int&gt; | microbiological-defined-events &lt;chr&gt; |\n|---|---|---|---|---|---|---|\n| 1 | SRR12595782 | P1_V1  | male   | 41 |  9 | none |\n| 2 | SRR12595780 | P1_V2  | male   | 41 |  9 | none |\n| 3 | SRR12595759 | P10_V1 | female | 20 | 10 | IPA  |\n| 4 | SRR12595772 | P10_V2 | female | 20 | 10 | IPA  |\n| 5 | SRR12595781 | P2_V1  | female | 37 | 13 | none |\n| 6 | SRR12595779 | P2_V2  | female | 37 | 13 | none |\n\n",
            "text/latex": "A data.frame: 6 × 6\n\\begin{tabular}{r|llllll}\n  & sample-id & patient-id & gender & age & time-to-neutropenia & microbiological-defined-events\\\\\n  & <chr> & <chr> & <chr> & <int> & <int> & <chr>\\\\\n\\hline\n\t1 & SRR12595782 & P1\\_V1  & male   & 41 &  9 & none\\\\\n\t2 & SRR12595780 & P1\\_V2  & male   & 41 &  9 & none\\\\\n\t3 & SRR12595759 & P10\\_V1 & female & 20 & 10 & IPA \\\\\n\t4 & SRR12595772 & P10\\_V2 & female & 20 & 10 & IPA \\\\\n\t5 & SRR12595781 & P2\\_V1  & female & 37 & 13 & none\\\\\n\t6 & SRR12595779 & P2\\_V2  & female & 37 & 13 & none\\\\\n\\end{tabular}\n",
            "text/plain": [
              "  sample-id   patient-id gender age time-to-neutropenia\n",
              "1 SRR12595782 P1_V1      male   41   9                 \n",
              "2 SRR12595780 P1_V2      male   41   9                 \n",
              "3 SRR12595759 P10_V1     female 20  10                 \n",
              "4 SRR12595772 P10_V2     female 20  10                 \n",
              "5 SRR12595781 P2_V1      female 37  13                 \n",
              "6 SRR12595779 P2_V2      female 37  13                 \n",
              "  microbiological-defined-events\n",
              "1 none                          \n",
              "2 none                          \n",
              "3 IPA                           \n",
              "4 IPA                           \n",
              "5 none                          \n",
              "6 none                          "
            ]
          },
          "metadata": {}
        }
      ]
    },
    {
      "cell_type": "code",
      "source": [
        "metaTab = metaTab[,2:6]\n",
        "rownames(metaTab) = metaTab[,'patient-id']"
      ],
      "metadata": {
        "id": "dl_qhjOPCu4U"
      },
      "execution_count": 17,
      "outputs": []
    },
    {
      "cell_type": "code",
      "source": [
        "head(metaTab)"
      ],
      "metadata": {
        "colab": {
          "base_uri": "https://localhost:8080/",
          "height": 286
        },
        "id": "kujCnm50Cxk8",
        "outputId": "1a8e7b58-2406-4005-b9f2-02b7f18d89d6"
      },
      "execution_count": 18,
      "outputs": [
        {
          "output_type": "display_data",
          "data": {
            "text/html": [
              "<table class=\"dataframe\">\n",
              "<caption>A data.frame: 6 × 5</caption>\n",
              "<thead>\n",
              "\t<tr><th></th><th scope=col>patient-id</th><th scope=col>gender</th><th scope=col>age</th><th scope=col>time-to-neutropenia</th><th scope=col>microbiological-defined-events</th></tr>\n",
              "\t<tr><th></th><th scope=col>&lt;chr&gt;</th><th scope=col>&lt;chr&gt;</th><th scope=col>&lt;int&gt;</th><th scope=col>&lt;int&gt;</th><th scope=col>&lt;chr&gt;</th></tr>\n",
              "</thead>\n",
              "<tbody>\n",
              "\t<tr><th scope=row>P1_V1</th><td>P1_V1 </td><td>male  </td><td>41</td><td> 9</td><td>none</td></tr>\n",
              "\t<tr><th scope=row>P1_V2</th><td>P1_V2 </td><td>male  </td><td>41</td><td> 9</td><td>none</td></tr>\n",
              "\t<tr><th scope=row>P10_V1</th><td>P10_V1</td><td>female</td><td>20</td><td>10</td><td>IPA </td></tr>\n",
              "\t<tr><th scope=row>P10_V2</th><td>P10_V2</td><td>female</td><td>20</td><td>10</td><td>IPA </td></tr>\n",
              "\t<tr><th scope=row>P2_V1</th><td>P2_V1 </td><td>female</td><td>37</td><td>13</td><td>none</td></tr>\n",
              "\t<tr><th scope=row>P2_V2</th><td>P2_V2 </td><td>female</td><td>37</td><td>13</td><td>none</td></tr>\n",
              "</tbody>\n",
              "</table>\n"
            ],
            "text/markdown": "\nA data.frame: 6 × 5\n\n| <!--/--> | patient-id &lt;chr&gt; | gender &lt;chr&gt; | age &lt;int&gt; | time-to-neutropenia &lt;int&gt; | microbiological-defined-events &lt;chr&gt; |\n|---|---|---|---|---|---|\n| P1_V1 | P1_V1  | male   | 41 |  9 | none |\n| P1_V2 | P1_V2  | male   | 41 |  9 | none |\n| P10_V1 | P10_V1 | female | 20 | 10 | IPA  |\n| P10_V2 | P10_V2 | female | 20 | 10 | IPA  |\n| P2_V1 | P2_V1  | female | 37 | 13 | none |\n| P2_V2 | P2_V2  | female | 37 | 13 | none |\n\n",
            "text/latex": "A data.frame: 6 × 5\n\\begin{tabular}{r|lllll}\n  & patient-id & gender & age & time-to-neutropenia & microbiological-defined-events\\\\\n  & <chr> & <chr> & <int> & <int> & <chr>\\\\\n\\hline\n\tP1\\_V1 & P1\\_V1  & male   & 41 &  9 & none\\\\\n\tP1\\_V2 & P1\\_V2  & male   & 41 &  9 & none\\\\\n\tP10\\_V1 & P10\\_V1 & female & 20 & 10 & IPA \\\\\n\tP10\\_V2 & P10\\_V2 & female & 20 & 10 & IPA \\\\\n\tP2\\_V1 & P2\\_V1  & female & 37 & 13 & none\\\\\n\tP2\\_V2 & P2\\_V2  & female & 37 & 13 & none\\\\\n\\end{tabular}\n",
            "text/plain": [
              "       patient-id gender age time-to-neutropenia microbiological-defined-events\n",
              "P1_V1  P1_V1      male   41   9                  none                          \n",
              "P1_V2  P1_V2      male   41   9                  none                          \n",
              "P10_V1 P10_V1     female 20  10                  IPA                           \n",
              "P10_V2 P10_V2     female 20  10                  IPA                           \n",
              "P2_V1  P2_V1      female 37  13                  none                          \n",
              "P2_V2  P2_V2      female 37  13                  none                          "
            ]
          },
          "metadata": {}
        }
      ]
    },
    {
      "cell_type": "code",
      "source": [
        "## Remove failed sample id from the metadata table\n",
        "i = which(rownames(metaTab) == 'P5_V2')\n",
        "metaTab = metaTab[-i,]"
      ],
      "metadata": {
        "id": "T-r7LyIpCzDU"
      },
      "execution_count": 19,
      "outputs": []
    },
    {
      "cell_type": "code",
      "source": [
        "dim(metaTab)"
      ],
      "metadata": {
        "colab": {
          "base_uri": "https://localhost:8080/",
          "height": 34
        },
        "id": "jsrYjd5JC1wI",
        "outputId": "06851b76-aa9b-4efa-e80f-e00181dc2aef"
      },
      "execution_count": 20,
      "outputs": [
        {
          "output_type": "display_data",
          "data": {
            "text/html": [
              "<style>\n",
              ".list-inline {list-style: none; margin:0; padding: 0}\n",
              ".list-inline>li {display: inline-block}\n",
              ".list-inline>li:not(:last-child)::after {content: \"\\00b7\"; padding: 0 .5ex}\n",
              "</style>\n",
              "<ol class=list-inline><li>23</li><li>5</li></ol>\n"
            ],
            "text/markdown": "1. 23\n2. 5\n\n\n",
            "text/latex": "\\begin{enumerate*}\n\\item 23\n\\item 5\n\\end{enumerate*}\n",
            "text/plain": [
              "[1] 23  5"
            ]
          },
          "metadata": {}
        }
      ]
    },
    {
      "cell_type": "markdown",
      "source": [
        "## 7. Import taxonomy"
      ],
      "metadata": {
        "id": "gdFTslshDHWJ"
      }
    },
    {
      "cell_type": "code",
      "source": [
        "annTaxG = read.table(\"taxonomy-genus.txt\", header = T, sep = \"\\t\", row.names = 1, check.names = F)\n",
        "annMatG = as.matrix(annTaxG)"
      ],
      "metadata": {
        "id": "xRZqbIHTDCKZ"
      },
      "execution_count": 22,
      "outputs": []
    },
    {
      "cell_type": "code",
      "source": [
        "OTU = otu_table(taxMatG, taxa_are_rows = T)\n",
        "TAX = tax_table(annMatG) \n",
        "SAM = sample_data(metaTab)"
      ],
      "metadata": {
        "id": "l_YxOTI6DOUk"
      },
      "execution_count": 23,
      "outputs": []
    },
    {
      "cell_type": "code",
      "source": [
        "head(OTU)"
      ],
      "metadata": {
        "colab": {
          "base_uri": "https://localhost:8080/",
          "height": 292
        },
        "id": "2tCNUtMTDQnT",
        "outputId": "d291c0bd-e169-43be-f98b-d9998a547621"
      },
      "execution_count": 24,
      "outputs": [
        {
          "output_type": "display_data",
          "data": {
            "text/html": [
              "<table class=\"dataframe\">\n",
              "<caption>A otu_table: 6 × 23 of type int</caption>\n",
              "<thead>\n",
              "\t<tr><th></th><th scope=col>P10_V1</th><th scope=col>P9_V1</th><th scope=col>P8_V1</th><th scope=col>P7_V1</th><th scope=col>P6_V1</th><th scope=col>P5_V1</th><th scope=col>P4_V1</th><th scope=col>P9_V3</th><th scope=col>P8_V3</th><th scope=col>P6_V3</th><th scope=col>⋯</th><th scope=col>P10_V2</th><th scope=col>P9_V2</th><th scope=col>P8_V2</th><th scope=col>P7_V2</th><th scope=col>P4_V2</th><th scope=col>P3_V2</th><th scope=col>P2_V2</th><th scope=col>P1_V2</th><th scope=col>P2_V1</th><th scope=col>P1_V1</th></tr>\n",
              "</thead>\n",
              "<tbody>\n",
              "\t<tr><th scope=row>d__Bacteria;p__Bacteroidota;c__Bacteroidia;o__Bacteroidales;f__Bacteroidaceae;g__Bacteroides</th><td>   38</td><td>16028</td><td>19502</td><td>17338</td><td>4105</td><td> 270</td><td>22757</td><td>13186</td><td>18146</td><td>9488</td><td>⋯</td><td>   54</td><td>15172</td><td>13618</td><td> 511</td><td>24386</td><td>    3</td><td> 2645</td><td>26017</td><td>24255</td><td>25499</td></tr>\n",
              "\t<tr><th scope=row>d__Bacteria;p__Firmicutes;c__Bacilli;o__Lactobacillales;f__Enterococcaceae;g__Enterococcus</th><td>  380</td><td>    0</td><td>   14</td><td>  262</td><td>   7</td><td> 261</td><td>   29</td><td>    2</td><td>   63</td><td>  40</td><td>⋯</td><td>27583</td><td>   68</td><td> 9663</td><td>  11</td><td> 4764</td><td>23460</td><td>   11</td><td>   13</td><td>    0</td><td>    0</td></tr>\n",
              "\t<tr><th scope=row>d__Bacteria;p__Proteobacteria;c__Gammaproteobacteria;o__Enterobacterales;f__Enterobacteriaceae;g__Escherichia-Shigella</th><td>41497</td><td>  193</td><td> 8609</td><td>10648</td><td> 952</td><td>4404</td><td>  935</td><td>  288</td><td> 1307</td><td>3933</td><td>⋯</td><td>11978</td><td>  251</td><td>  256</td><td>  10</td><td>   33</td><td>    0</td><td>   79</td><td> 5234</td><td>  334</td><td> 1502</td></tr>\n",
              "\t<tr><th scope=row>d__Bacteria;p__Verrucomicrobiota;c__Verrucomicrobiae;o__Verrucomicrobiales;f__Akkermansiaceae;g__Akkermansia</th><td>   13</td><td>   11</td><td> 5105</td><td> 2605</td><td>   4</td><td>   6</td><td>  121</td><td>    0</td><td>    0</td><td>   0</td><td>⋯</td><td>    0</td><td>    0</td><td> 8829</td><td>5374</td><td>    9</td><td>    2</td><td>29813</td><td>    2</td><td> 4869</td><td>    0</td></tr>\n",
              "\t<tr><th scope=row>d__Bacteria;p__Firmicutes;c__Clostridia;o__Lachnospirales;f__Lachnospiraceae;g__Lachnoclostridium</th><td>    5</td><td>  208</td><td>  226</td><td>  171</td><td> 443</td><td>5768</td><td> 4761</td><td>  243</td><td>  434</td><td> 107</td><td>⋯</td><td>    3</td><td>   93</td><td> 7081</td><td> 816</td><td>    0</td><td>    0</td><td> 1291</td><td>  389</td><td> 1342</td><td> 1023</td></tr>\n",
              "\t<tr><th scope=row>d__Bacteria;p__Spirochaetota;c__Spirochaetia;o__Spirochaetales;f__Spirochaetaceae;g__Sphaerochaeta</th><td>    0</td><td>    0</td><td>    0</td><td>    0</td><td>   0</td><td>   0</td><td>    0</td><td>    0</td><td>    0</td><td>   0</td><td>⋯</td><td>    0</td><td>    0</td><td>    0</td><td>   0</td><td>    0</td><td>10358</td><td>    0</td><td>    0</td><td>    0</td><td>    0</td></tr>\n",
              "</tbody>\n",
              "</table>\n"
            ],
            "text/markdown": "\nA otu_table: 6 × 23 of type int\n\n| <!--/--> | P10_V1 | P9_V1 | P8_V1 | P7_V1 | P6_V1 | P5_V1 | P4_V1 | P9_V3 | P8_V3 | P6_V3 | ⋯ | P10_V2 | P9_V2 | P8_V2 | P7_V2 | P4_V2 | P3_V2 | P2_V2 | P1_V2 | P2_V1 | P1_V1 |\n|---|---|---|---|---|---|---|---|---|---|---|---|---|---|---|---|---|---|---|---|---|---|\n| d__Bacteria;p__Bacteroidota;c__Bacteroidia;o__Bacteroidales;f__Bacteroidaceae;g__Bacteroides |    38 | 16028 | 19502 | 17338 | 4105 |  270 | 22757 | 13186 | 18146 | 9488 | ⋯ |    54 | 15172 | 13618 |  511 | 24386 |     3 |  2645 | 26017 | 24255 | 25499 |\n| d__Bacteria;p__Firmicutes;c__Bacilli;o__Lactobacillales;f__Enterococcaceae;g__Enterococcus |   380 |     0 |    14 |   262 |    7 |  261 |    29 |     2 |    63 |   40 | ⋯ | 27583 |    68 |  9663 |   11 |  4764 | 23460 |    11 |    13 |     0 |     0 |\n| d__Bacteria;p__Proteobacteria;c__Gammaproteobacteria;o__Enterobacterales;f__Enterobacteriaceae;g__Escherichia-Shigella | 41497 |   193 |  8609 | 10648 |  952 | 4404 |   935 |   288 |  1307 | 3933 | ⋯ | 11978 |   251 |   256 |   10 |    33 |     0 |    79 |  5234 |   334 |  1502 |\n| d__Bacteria;p__Verrucomicrobiota;c__Verrucomicrobiae;o__Verrucomicrobiales;f__Akkermansiaceae;g__Akkermansia |    13 |    11 |  5105 |  2605 |    4 |    6 |   121 |     0 |     0 |    0 | ⋯ |     0 |     0 |  8829 | 5374 |     9 |     2 | 29813 |     2 |  4869 |     0 |\n| d__Bacteria;p__Firmicutes;c__Clostridia;o__Lachnospirales;f__Lachnospiraceae;g__Lachnoclostridium |     5 |   208 |   226 |   171 |  443 | 5768 |  4761 |   243 |   434 |  107 | ⋯ |     3 |    93 |  7081 |  816 |     0 |     0 |  1291 |   389 |  1342 |  1023 |\n| d__Bacteria;p__Spirochaetota;c__Spirochaetia;o__Spirochaetales;f__Spirochaetaceae;g__Sphaerochaeta |     0 |     0 |     0 |     0 |    0 |    0 |     0 |     0 |     0 |    0 | ⋯ |     0 |     0 |     0 |    0 |     0 | 10358 |     0 |     0 |     0 |     0 |\n\n",
            "text/latex": "A otu\\_table: 6 × 23 of type int\n\\begin{tabular}{r|lllllllllllllllllllll}\n  & P10\\_V1 & P9\\_V1 & P8\\_V1 & P7\\_V1 & P6\\_V1 & P5\\_V1 & P4\\_V1 & P9\\_V3 & P8\\_V3 & P6\\_V3 & ⋯ & P10\\_V2 & P9\\_V2 & P8\\_V2 & P7\\_V2 & P4\\_V2 & P3\\_V2 & P2\\_V2 & P1\\_V2 & P2\\_V1 & P1\\_V1\\\\\n\\hline\n\td\\_\\_Bacteria;p\\_\\_Bacteroidota;c\\_\\_Bacteroidia;o\\_\\_Bacteroidales;f\\_\\_Bacteroidaceae;g\\_\\_Bacteroides &    38 & 16028 & 19502 & 17338 & 4105 &  270 & 22757 & 13186 & 18146 & 9488 & ⋯ &    54 & 15172 & 13618 &  511 & 24386 &     3 &  2645 & 26017 & 24255 & 25499\\\\\n\td\\_\\_Bacteria;p\\_\\_Firmicutes;c\\_\\_Bacilli;o\\_\\_Lactobacillales;f\\_\\_Enterococcaceae;g\\_\\_Enterococcus &   380 &     0 &    14 &   262 &    7 &  261 &    29 &     2 &    63 &   40 & ⋯ & 27583 &    68 &  9663 &   11 &  4764 & 23460 &    11 &    13 &     0 &     0\\\\\n\td\\_\\_Bacteria;p\\_\\_Proteobacteria;c\\_\\_Gammaproteobacteria;o\\_\\_Enterobacterales;f\\_\\_Enterobacteriaceae;g\\_\\_Escherichia-Shigella & 41497 &   193 &  8609 & 10648 &  952 & 4404 &   935 &   288 &  1307 & 3933 & ⋯ & 11978 &   251 &   256 &   10 &    33 &     0 &    79 &  5234 &   334 &  1502\\\\\n\td\\_\\_Bacteria;p\\_\\_Verrucomicrobiota;c\\_\\_Verrucomicrobiae;o\\_\\_Verrucomicrobiales;f\\_\\_Akkermansiaceae;g\\_\\_Akkermansia &    13 &    11 &  5105 &  2605 &    4 &    6 &   121 &     0 &     0 &    0 & ⋯ &     0 &     0 &  8829 & 5374 &     9 &     2 & 29813 &     2 &  4869 &     0\\\\\n\td\\_\\_Bacteria;p\\_\\_Firmicutes;c\\_\\_Clostridia;o\\_\\_Lachnospirales;f\\_\\_Lachnospiraceae;g\\_\\_Lachnoclostridium &     5 &   208 &   226 &   171 &  443 & 5768 &  4761 &   243 &   434 &  107 & ⋯ &     3 &    93 &  7081 &  816 &     0 &     0 &  1291 &   389 &  1342 &  1023\\\\\n\td\\_\\_Bacteria;p\\_\\_Spirochaetota;c\\_\\_Spirochaetia;o\\_\\_Spirochaetales;f\\_\\_Spirochaetaceae;g\\_\\_Sphaerochaeta &     0 &     0 &     0 &     0 &    0 &    0 &     0 &     0 &     0 &    0 & ⋯ &     0 &     0 &     0 &    0 &     0 & 10358 &     0 &     0 &     0 &     0\\\\\n\\end{tabular}\n",
            "text/plain": [
              "                                                                                                                       P10_V1\n",
              "d__Bacteria;p__Bacteroidota;c__Bacteroidia;o__Bacteroidales;f__Bacteroidaceae;g__Bacteroides                              38 \n",
              "d__Bacteria;p__Firmicutes;c__Bacilli;o__Lactobacillales;f__Enterococcaceae;g__Enterococcus                               380 \n",
              "d__Bacteria;p__Proteobacteria;c__Gammaproteobacteria;o__Enterobacterales;f__Enterobacteriaceae;g__Escherichia-Shigella 41497 \n",
              "d__Bacteria;p__Verrucomicrobiota;c__Verrucomicrobiae;o__Verrucomicrobiales;f__Akkermansiaceae;g__Akkermansia              13 \n",
              "d__Bacteria;p__Firmicutes;c__Clostridia;o__Lachnospirales;f__Lachnospiraceae;g__Lachnoclostridium                          5 \n",
              "d__Bacteria;p__Spirochaetota;c__Spirochaetia;o__Spirochaetales;f__Spirochaetaceae;g__Sphaerochaeta                         0 \n",
              "                                                                                                                       P9_V1\n",
              "d__Bacteria;p__Bacteroidota;c__Bacteroidia;o__Bacteroidales;f__Bacteroidaceae;g__Bacteroides                           16028\n",
              "d__Bacteria;p__Firmicutes;c__Bacilli;o__Lactobacillales;f__Enterococcaceae;g__Enterococcus                                 0\n",
              "d__Bacteria;p__Proteobacteria;c__Gammaproteobacteria;o__Enterobacterales;f__Enterobacteriaceae;g__Escherichia-Shigella   193\n",
              "d__Bacteria;p__Verrucomicrobiota;c__Verrucomicrobiae;o__Verrucomicrobiales;f__Akkermansiaceae;g__Akkermansia              11\n",
              "d__Bacteria;p__Firmicutes;c__Clostridia;o__Lachnospirales;f__Lachnospiraceae;g__Lachnoclostridium                        208\n",
              "d__Bacteria;p__Spirochaetota;c__Spirochaetia;o__Spirochaetales;f__Spirochaetaceae;g__Sphaerochaeta                         0\n",
              "                                                                                                                       P8_V1\n",
              "d__Bacteria;p__Bacteroidota;c__Bacteroidia;o__Bacteroidales;f__Bacteroidaceae;g__Bacteroides                           19502\n",
              "d__Bacteria;p__Firmicutes;c__Bacilli;o__Lactobacillales;f__Enterococcaceae;g__Enterococcus                                14\n",
              "d__Bacteria;p__Proteobacteria;c__Gammaproteobacteria;o__Enterobacterales;f__Enterobacteriaceae;g__Escherichia-Shigella  8609\n",
              "d__Bacteria;p__Verrucomicrobiota;c__Verrucomicrobiae;o__Verrucomicrobiales;f__Akkermansiaceae;g__Akkermansia            5105\n",
              "d__Bacteria;p__Firmicutes;c__Clostridia;o__Lachnospirales;f__Lachnospiraceae;g__Lachnoclostridium                        226\n",
              "d__Bacteria;p__Spirochaetota;c__Spirochaetia;o__Spirochaetales;f__Spirochaetaceae;g__Sphaerochaeta                         0\n",
              "                                                                                                                       P7_V1\n",
              "d__Bacteria;p__Bacteroidota;c__Bacteroidia;o__Bacteroidales;f__Bacteroidaceae;g__Bacteroides                           17338\n",
              "d__Bacteria;p__Firmicutes;c__Bacilli;o__Lactobacillales;f__Enterococcaceae;g__Enterococcus                               262\n",
              "d__Bacteria;p__Proteobacteria;c__Gammaproteobacteria;o__Enterobacterales;f__Enterobacteriaceae;g__Escherichia-Shigella 10648\n",
              "d__Bacteria;p__Verrucomicrobiota;c__Verrucomicrobiae;o__Verrucomicrobiales;f__Akkermansiaceae;g__Akkermansia            2605\n",
              "d__Bacteria;p__Firmicutes;c__Clostridia;o__Lachnospirales;f__Lachnospiraceae;g__Lachnoclostridium                        171\n",
              "d__Bacteria;p__Spirochaetota;c__Spirochaetia;o__Spirochaetales;f__Spirochaetaceae;g__Sphaerochaeta                         0\n",
              "                                                                                                                       P6_V1\n",
              "d__Bacteria;p__Bacteroidota;c__Bacteroidia;o__Bacteroidales;f__Bacteroidaceae;g__Bacteroides                           4105 \n",
              "d__Bacteria;p__Firmicutes;c__Bacilli;o__Lactobacillales;f__Enterococcaceae;g__Enterococcus                                7 \n",
              "d__Bacteria;p__Proteobacteria;c__Gammaproteobacteria;o__Enterobacterales;f__Enterobacteriaceae;g__Escherichia-Shigella  952 \n",
              "d__Bacteria;p__Verrucomicrobiota;c__Verrucomicrobiae;o__Verrucomicrobiales;f__Akkermansiaceae;g__Akkermansia              4 \n",
              "d__Bacteria;p__Firmicutes;c__Clostridia;o__Lachnospirales;f__Lachnospiraceae;g__Lachnoclostridium                       443 \n",
              "d__Bacteria;p__Spirochaetota;c__Spirochaetia;o__Spirochaetales;f__Spirochaetaceae;g__Sphaerochaeta                        0 \n",
              "                                                                                                                       P5_V1\n",
              "d__Bacteria;p__Bacteroidota;c__Bacteroidia;o__Bacteroidales;f__Bacteroidaceae;g__Bacteroides                            270 \n",
              "d__Bacteria;p__Firmicutes;c__Bacilli;o__Lactobacillales;f__Enterococcaceae;g__Enterococcus                              261 \n",
              "d__Bacteria;p__Proteobacteria;c__Gammaproteobacteria;o__Enterobacterales;f__Enterobacteriaceae;g__Escherichia-Shigella 4404 \n",
              "d__Bacteria;p__Verrucomicrobiota;c__Verrucomicrobiae;o__Verrucomicrobiales;f__Akkermansiaceae;g__Akkermansia              6 \n",
              "d__Bacteria;p__Firmicutes;c__Clostridia;o__Lachnospirales;f__Lachnospiraceae;g__Lachnoclostridium                      5768 \n",
              "d__Bacteria;p__Spirochaetota;c__Spirochaetia;o__Spirochaetales;f__Spirochaetaceae;g__Sphaerochaeta                        0 \n",
              "                                                                                                                       P4_V1\n",
              "d__Bacteria;p__Bacteroidota;c__Bacteroidia;o__Bacteroidales;f__Bacteroidaceae;g__Bacteroides                           22757\n",
              "d__Bacteria;p__Firmicutes;c__Bacilli;o__Lactobacillales;f__Enterococcaceae;g__Enterococcus                                29\n",
              "d__Bacteria;p__Proteobacteria;c__Gammaproteobacteria;o__Enterobacterales;f__Enterobacteriaceae;g__Escherichia-Shigella   935\n",
              "d__Bacteria;p__Verrucomicrobiota;c__Verrucomicrobiae;o__Verrucomicrobiales;f__Akkermansiaceae;g__Akkermansia             121\n",
              "d__Bacteria;p__Firmicutes;c__Clostridia;o__Lachnospirales;f__Lachnospiraceae;g__Lachnoclostridium                       4761\n",
              "d__Bacteria;p__Spirochaetota;c__Spirochaetia;o__Spirochaetales;f__Spirochaetaceae;g__Sphaerochaeta                         0\n",
              "                                                                                                                       P9_V3\n",
              "d__Bacteria;p__Bacteroidota;c__Bacteroidia;o__Bacteroidales;f__Bacteroidaceae;g__Bacteroides                           13186\n",
              "d__Bacteria;p__Firmicutes;c__Bacilli;o__Lactobacillales;f__Enterococcaceae;g__Enterococcus                                 2\n",
              "d__Bacteria;p__Proteobacteria;c__Gammaproteobacteria;o__Enterobacterales;f__Enterobacteriaceae;g__Escherichia-Shigella   288\n",
              "d__Bacteria;p__Verrucomicrobiota;c__Verrucomicrobiae;o__Verrucomicrobiales;f__Akkermansiaceae;g__Akkermansia               0\n",
              "d__Bacteria;p__Firmicutes;c__Clostridia;o__Lachnospirales;f__Lachnospiraceae;g__Lachnoclostridium                        243\n",
              "d__Bacteria;p__Spirochaetota;c__Spirochaetia;o__Spirochaetales;f__Spirochaetaceae;g__Sphaerochaeta                         0\n",
              "                                                                                                                       P8_V3\n",
              "d__Bacteria;p__Bacteroidota;c__Bacteroidia;o__Bacteroidales;f__Bacteroidaceae;g__Bacteroides                           18146\n",
              "d__Bacteria;p__Firmicutes;c__Bacilli;o__Lactobacillales;f__Enterococcaceae;g__Enterococcus                                63\n",
              "d__Bacteria;p__Proteobacteria;c__Gammaproteobacteria;o__Enterobacterales;f__Enterobacteriaceae;g__Escherichia-Shigella  1307\n",
              "d__Bacteria;p__Verrucomicrobiota;c__Verrucomicrobiae;o__Verrucomicrobiales;f__Akkermansiaceae;g__Akkermansia               0\n",
              "d__Bacteria;p__Firmicutes;c__Clostridia;o__Lachnospirales;f__Lachnospiraceae;g__Lachnoclostridium                        434\n",
              "d__Bacteria;p__Spirochaetota;c__Spirochaetia;o__Spirochaetales;f__Spirochaetaceae;g__Sphaerochaeta                         0\n",
              "                                                                                                                       P6_V3\n",
              "d__Bacteria;p__Bacteroidota;c__Bacteroidia;o__Bacteroidales;f__Bacteroidaceae;g__Bacteroides                           9488 \n",
              "d__Bacteria;p__Firmicutes;c__Bacilli;o__Lactobacillales;f__Enterococcaceae;g__Enterococcus                               40 \n",
              "d__Bacteria;p__Proteobacteria;c__Gammaproteobacteria;o__Enterobacterales;f__Enterobacteriaceae;g__Escherichia-Shigella 3933 \n",
              "d__Bacteria;p__Verrucomicrobiota;c__Verrucomicrobiae;o__Verrucomicrobiales;f__Akkermansiaceae;g__Akkermansia              0 \n",
              "d__Bacteria;p__Firmicutes;c__Clostridia;o__Lachnospirales;f__Lachnospiraceae;g__Lachnoclostridium                       107 \n",
              "d__Bacteria;p__Spirochaetota;c__Spirochaetia;o__Spirochaetales;f__Spirochaetaceae;g__Sphaerochaeta                        0 \n",
              "                                                                                                                       ⋯\n",
              "d__Bacteria;p__Bacteroidota;c__Bacteroidia;o__Bacteroidales;f__Bacteroidaceae;g__Bacteroides                           ⋯\n",
              "d__Bacteria;p__Firmicutes;c__Bacilli;o__Lactobacillales;f__Enterococcaceae;g__Enterococcus                             ⋯\n",
              "d__Bacteria;p__Proteobacteria;c__Gammaproteobacteria;o__Enterobacterales;f__Enterobacteriaceae;g__Escherichia-Shigella ⋯\n",
              "d__Bacteria;p__Verrucomicrobiota;c__Verrucomicrobiae;o__Verrucomicrobiales;f__Akkermansiaceae;g__Akkermansia           ⋯\n",
              "d__Bacteria;p__Firmicutes;c__Clostridia;o__Lachnospirales;f__Lachnospiraceae;g__Lachnoclostridium                      ⋯\n",
              "d__Bacteria;p__Spirochaetota;c__Spirochaetia;o__Spirochaetales;f__Spirochaetaceae;g__Sphaerochaeta                     ⋯\n",
              "                                                                                                                       P10_V2\n",
              "d__Bacteria;p__Bacteroidota;c__Bacteroidia;o__Bacteroidales;f__Bacteroidaceae;g__Bacteroides                              54 \n",
              "d__Bacteria;p__Firmicutes;c__Bacilli;o__Lactobacillales;f__Enterococcaceae;g__Enterococcus                             27583 \n",
              "d__Bacteria;p__Proteobacteria;c__Gammaproteobacteria;o__Enterobacterales;f__Enterobacteriaceae;g__Escherichia-Shigella 11978 \n",
              "d__Bacteria;p__Verrucomicrobiota;c__Verrucomicrobiae;o__Verrucomicrobiales;f__Akkermansiaceae;g__Akkermansia               0 \n",
              "d__Bacteria;p__Firmicutes;c__Clostridia;o__Lachnospirales;f__Lachnospiraceae;g__Lachnoclostridium                          3 \n",
              "d__Bacteria;p__Spirochaetota;c__Spirochaetia;o__Spirochaetales;f__Spirochaetaceae;g__Sphaerochaeta                         0 \n",
              "                                                                                                                       P9_V2\n",
              "d__Bacteria;p__Bacteroidota;c__Bacteroidia;o__Bacteroidales;f__Bacteroidaceae;g__Bacteroides                           15172\n",
              "d__Bacteria;p__Firmicutes;c__Bacilli;o__Lactobacillales;f__Enterococcaceae;g__Enterococcus                                68\n",
              "d__Bacteria;p__Proteobacteria;c__Gammaproteobacteria;o__Enterobacterales;f__Enterobacteriaceae;g__Escherichia-Shigella   251\n",
              "d__Bacteria;p__Verrucomicrobiota;c__Verrucomicrobiae;o__Verrucomicrobiales;f__Akkermansiaceae;g__Akkermansia               0\n",
              "d__Bacteria;p__Firmicutes;c__Clostridia;o__Lachnospirales;f__Lachnospiraceae;g__Lachnoclostridium                         93\n",
              "d__Bacteria;p__Spirochaetota;c__Spirochaetia;o__Spirochaetales;f__Spirochaetaceae;g__Sphaerochaeta                         0\n",
              "                                                                                                                       P8_V2\n",
              "d__Bacteria;p__Bacteroidota;c__Bacteroidia;o__Bacteroidales;f__Bacteroidaceae;g__Bacteroides                           13618\n",
              "d__Bacteria;p__Firmicutes;c__Bacilli;o__Lactobacillales;f__Enterococcaceae;g__Enterococcus                              9663\n",
              "d__Bacteria;p__Proteobacteria;c__Gammaproteobacteria;o__Enterobacterales;f__Enterobacteriaceae;g__Escherichia-Shigella   256\n",
              "d__Bacteria;p__Verrucomicrobiota;c__Verrucomicrobiae;o__Verrucomicrobiales;f__Akkermansiaceae;g__Akkermansia            8829\n",
              "d__Bacteria;p__Firmicutes;c__Clostridia;o__Lachnospirales;f__Lachnospiraceae;g__Lachnoclostridium                       7081\n",
              "d__Bacteria;p__Spirochaetota;c__Spirochaetia;o__Spirochaetales;f__Spirochaetaceae;g__Sphaerochaeta                         0\n",
              "                                                                                                                       P7_V2\n",
              "d__Bacteria;p__Bacteroidota;c__Bacteroidia;o__Bacteroidales;f__Bacteroidaceae;g__Bacteroides                            511 \n",
              "d__Bacteria;p__Firmicutes;c__Bacilli;o__Lactobacillales;f__Enterococcaceae;g__Enterococcus                               11 \n",
              "d__Bacteria;p__Proteobacteria;c__Gammaproteobacteria;o__Enterobacterales;f__Enterobacteriaceae;g__Escherichia-Shigella   10 \n",
              "d__Bacteria;p__Verrucomicrobiota;c__Verrucomicrobiae;o__Verrucomicrobiales;f__Akkermansiaceae;g__Akkermansia           5374 \n",
              "d__Bacteria;p__Firmicutes;c__Clostridia;o__Lachnospirales;f__Lachnospiraceae;g__Lachnoclostridium                       816 \n",
              "d__Bacteria;p__Spirochaetota;c__Spirochaetia;o__Spirochaetales;f__Spirochaetaceae;g__Sphaerochaeta                        0 \n",
              "                                                                                                                       P4_V2\n",
              "d__Bacteria;p__Bacteroidota;c__Bacteroidia;o__Bacteroidales;f__Bacteroidaceae;g__Bacteroides                           24386\n",
              "d__Bacteria;p__Firmicutes;c__Bacilli;o__Lactobacillales;f__Enterococcaceae;g__Enterococcus                              4764\n",
              "d__Bacteria;p__Proteobacteria;c__Gammaproteobacteria;o__Enterobacterales;f__Enterobacteriaceae;g__Escherichia-Shigella    33\n",
              "d__Bacteria;p__Verrucomicrobiota;c__Verrucomicrobiae;o__Verrucomicrobiales;f__Akkermansiaceae;g__Akkermansia               9\n",
              "d__Bacteria;p__Firmicutes;c__Clostridia;o__Lachnospirales;f__Lachnospiraceae;g__Lachnoclostridium                          0\n",
              "d__Bacteria;p__Spirochaetota;c__Spirochaetia;o__Spirochaetales;f__Spirochaetaceae;g__Sphaerochaeta                         0\n",
              "                                                                                                                       P3_V2\n",
              "d__Bacteria;p__Bacteroidota;c__Bacteroidia;o__Bacteroidales;f__Bacteroidaceae;g__Bacteroides                               3\n",
              "d__Bacteria;p__Firmicutes;c__Bacilli;o__Lactobacillales;f__Enterococcaceae;g__Enterococcus                             23460\n",
              "d__Bacteria;p__Proteobacteria;c__Gammaproteobacteria;o__Enterobacterales;f__Enterobacteriaceae;g__Escherichia-Shigella     0\n",
              "d__Bacteria;p__Verrucomicrobiota;c__Verrucomicrobiae;o__Verrucomicrobiales;f__Akkermansiaceae;g__Akkermansia               2\n",
              "d__Bacteria;p__Firmicutes;c__Clostridia;o__Lachnospirales;f__Lachnospiraceae;g__Lachnoclostridium                          0\n",
              "d__Bacteria;p__Spirochaetota;c__Spirochaetia;o__Spirochaetales;f__Spirochaetaceae;g__Sphaerochaeta                     10358\n",
              "                                                                                                                       P2_V2\n",
              "d__Bacteria;p__Bacteroidota;c__Bacteroidia;o__Bacteroidales;f__Bacteroidaceae;g__Bacteroides                            2645\n",
              "d__Bacteria;p__Firmicutes;c__Bacilli;o__Lactobacillales;f__Enterococcaceae;g__Enterococcus                                11\n",
              "d__Bacteria;p__Proteobacteria;c__Gammaproteobacteria;o__Enterobacterales;f__Enterobacteriaceae;g__Escherichia-Shigella    79\n",
              "d__Bacteria;p__Verrucomicrobiota;c__Verrucomicrobiae;o__Verrucomicrobiales;f__Akkermansiaceae;g__Akkermansia           29813\n",
              "d__Bacteria;p__Firmicutes;c__Clostridia;o__Lachnospirales;f__Lachnospiraceae;g__Lachnoclostridium                       1291\n",
              "d__Bacteria;p__Spirochaetota;c__Spirochaetia;o__Spirochaetales;f__Spirochaetaceae;g__Sphaerochaeta                         0\n",
              "                                                                                                                       P1_V2\n",
              "d__Bacteria;p__Bacteroidota;c__Bacteroidia;o__Bacteroidales;f__Bacteroidaceae;g__Bacteroides                           26017\n",
              "d__Bacteria;p__Firmicutes;c__Bacilli;o__Lactobacillales;f__Enterococcaceae;g__Enterococcus                                13\n",
              "d__Bacteria;p__Proteobacteria;c__Gammaproteobacteria;o__Enterobacterales;f__Enterobacteriaceae;g__Escherichia-Shigella  5234\n",
              "d__Bacteria;p__Verrucomicrobiota;c__Verrucomicrobiae;o__Verrucomicrobiales;f__Akkermansiaceae;g__Akkermansia               2\n",
              "d__Bacteria;p__Firmicutes;c__Clostridia;o__Lachnospirales;f__Lachnospiraceae;g__Lachnoclostridium                        389\n",
              "d__Bacteria;p__Spirochaetota;c__Spirochaetia;o__Spirochaetales;f__Spirochaetaceae;g__Sphaerochaeta                         0\n",
              "                                                                                                                       P2_V1\n",
              "d__Bacteria;p__Bacteroidota;c__Bacteroidia;o__Bacteroidales;f__Bacteroidaceae;g__Bacteroides                           24255\n",
              "d__Bacteria;p__Firmicutes;c__Bacilli;o__Lactobacillales;f__Enterococcaceae;g__Enterococcus                                 0\n",
              "d__Bacteria;p__Proteobacteria;c__Gammaproteobacteria;o__Enterobacterales;f__Enterobacteriaceae;g__Escherichia-Shigella   334\n",
              "d__Bacteria;p__Verrucomicrobiota;c__Verrucomicrobiae;o__Verrucomicrobiales;f__Akkermansiaceae;g__Akkermansia            4869\n",
              "d__Bacteria;p__Firmicutes;c__Clostridia;o__Lachnospirales;f__Lachnospiraceae;g__Lachnoclostridium                       1342\n",
              "d__Bacteria;p__Spirochaetota;c__Spirochaetia;o__Spirochaetales;f__Spirochaetaceae;g__Sphaerochaeta                         0\n",
              "                                                                                                                       P1_V1\n",
              "d__Bacteria;p__Bacteroidota;c__Bacteroidia;o__Bacteroidales;f__Bacteroidaceae;g__Bacteroides                           25499\n",
              "d__Bacteria;p__Firmicutes;c__Bacilli;o__Lactobacillales;f__Enterococcaceae;g__Enterococcus                                 0\n",
              "d__Bacteria;p__Proteobacteria;c__Gammaproteobacteria;o__Enterobacterales;f__Enterobacteriaceae;g__Escherichia-Shigella  1502\n",
              "d__Bacteria;p__Verrucomicrobiota;c__Verrucomicrobiae;o__Verrucomicrobiales;f__Akkermansiaceae;g__Akkermansia               0\n",
              "d__Bacteria;p__Firmicutes;c__Clostridia;o__Lachnospirales;f__Lachnospiraceae;g__Lachnoclostridium                       1023\n",
              "d__Bacteria;p__Spirochaetota;c__Spirochaetia;o__Spirochaetales;f__Spirochaetaceae;g__Sphaerochaeta                         0"
            ]
          },
          "metadata": {}
        }
      ]
    },
    {
      "cell_type": "code",
      "source": [
        "head(TAX)"
      ],
      "metadata": {
        "colab": {
          "base_uri": "https://localhost:8080/",
          "height": 292
        },
        "id": "yIf2wHTrDdjk",
        "outputId": "5125991b-a87c-4086-d7cd-7e739c012ce6"
      },
      "execution_count": 25,
      "outputs": [
        {
          "output_type": "display_data",
          "data": {
            "text/html": [
              "<table class=\"dataframe\">\n",
              "<caption>A taxonomyTable: 6 × 6 of type chr</caption>\n",
              "<thead>\n",
              "\t<tr><th></th><th scope=col>Domain</th><th scope=col>Phylum</th><th scope=col>Class</th><th scope=col>Order</th><th scope=col>Family</th><th scope=col>Genus</th></tr>\n",
              "</thead>\n",
              "<tbody>\n",
              "\t<tr><th scope=row>d__Bacteria;p__Bacteroidota;c__Bacteroidia;o__Bacteroidales;f__Bacteroidaceae;g__Bacteroides</th><td>d__Bacteria</td><td>p__Bacteroidota     </td><td>c__Bacteroidia        </td><td>o__Bacteroidales     </td><td>f__Bacteroidaceae    </td><td>g__Bacteroides         </td></tr>\n",
              "\t<tr><th scope=row>d__Bacteria;p__Firmicutes;c__Bacilli;o__Lactobacillales;f__Enterococcaceae;g__Enterococcus</th><td>d__Bacteria</td><td>p__Firmicutes       </td><td>c__Bacilli            </td><td>o__Lactobacillales   </td><td>f__Enterococcaceae   </td><td>g__Enterococcus        </td></tr>\n",
              "\t<tr><th scope=row>d__Bacteria;p__Proteobacteria;c__Gammaproteobacteria;o__Enterobacterales;f__Enterobacteriaceae;g__Escherichia-Shigella</th><td>d__Bacteria</td><td>p__Proteobacteria   </td><td>c__Gammaproteobacteria</td><td>o__Enterobacterales  </td><td>f__Enterobacteriaceae</td><td>g__Escherichia-Shigella</td></tr>\n",
              "\t<tr><th scope=row>d__Bacteria;p__Verrucomicrobiota;c__Verrucomicrobiae;o__Verrucomicrobiales;f__Akkermansiaceae;g__Akkermansia</th><td>d__Bacteria</td><td>p__Verrucomicrobiota</td><td>c__Verrucomicrobiae   </td><td>o__Verrucomicrobiales</td><td>f__Akkermansiaceae   </td><td>g__Akkermansia         </td></tr>\n",
              "\t<tr><th scope=row>d__Bacteria;p__Firmicutes;c__Clostridia;o__Lachnospirales;f__Lachnospiraceae;g__Lachnoclostridium</th><td>d__Bacteria</td><td>p__Firmicutes       </td><td>c__Clostridia         </td><td>o__Lachnospirales    </td><td>f__Lachnospiraceae   </td><td>g__Lachnoclostridium   </td></tr>\n",
              "\t<tr><th scope=row>d__Bacteria;p__Spirochaetota;c__Spirochaetia;o__Spirochaetales;f__Spirochaetaceae;g__Sphaerochaeta</th><td>d__Bacteria</td><td>p__Spirochaetota    </td><td>c__Spirochaetia       </td><td>o__Spirochaetales    </td><td>f__Spirochaetaceae   </td><td>g__Sphaerochaeta       </td></tr>\n",
              "</tbody>\n",
              "</table>\n"
            ],
            "text/markdown": "\nA taxonomyTable: 6 × 6 of type chr\n\n| <!--/--> | Domain | Phylum | Class | Order | Family | Genus |\n|---|---|---|---|---|---|---|\n| d__Bacteria;p__Bacteroidota;c__Bacteroidia;o__Bacteroidales;f__Bacteroidaceae;g__Bacteroides | d__Bacteria | p__Bacteroidota      | c__Bacteroidia         | o__Bacteroidales      | f__Bacteroidaceae     | g__Bacteroides          |\n| d__Bacteria;p__Firmicutes;c__Bacilli;o__Lactobacillales;f__Enterococcaceae;g__Enterococcus | d__Bacteria | p__Firmicutes        | c__Bacilli             | o__Lactobacillales    | f__Enterococcaceae    | g__Enterococcus         |\n| d__Bacteria;p__Proteobacteria;c__Gammaproteobacteria;o__Enterobacterales;f__Enterobacteriaceae;g__Escherichia-Shigella | d__Bacteria | p__Proteobacteria    | c__Gammaproteobacteria | o__Enterobacterales   | f__Enterobacteriaceae | g__Escherichia-Shigella |\n| d__Bacteria;p__Verrucomicrobiota;c__Verrucomicrobiae;o__Verrucomicrobiales;f__Akkermansiaceae;g__Akkermansia | d__Bacteria | p__Verrucomicrobiota | c__Verrucomicrobiae    | o__Verrucomicrobiales | f__Akkermansiaceae    | g__Akkermansia          |\n| d__Bacteria;p__Firmicutes;c__Clostridia;o__Lachnospirales;f__Lachnospiraceae;g__Lachnoclostridium | d__Bacteria | p__Firmicutes        | c__Clostridia          | o__Lachnospirales     | f__Lachnospiraceae    | g__Lachnoclostridium    |\n| d__Bacteria;p__Spirochaetota;c__Spirochaetia;o__Spirochaetales;f__Spirochaetaceae;g__Sphaerochaeta | d__Bacteria | p__Spirochaetota     | c__Spirochaetia        | o__Spirochaetales     | f__Spirochaetaceae    | g__Sphaerochaeta        |\n\n",
            "text/latex": "A taxonomyTable: 6 × 6 of type chr\n\\begin{tabular}{r|llllll}\n  & Domain & Phylum & Class & Order & Family & Genus\\\\\n\\hline\n\td\\_\\_Bacteria;p\\_\\_Bacteroidota;c\\_\\_Bacteroidia;o\\_\\_Bacteroidales;f\\_\\_Bacteroidaceae;g\\_\\_Bacteroides & d\\_\\_Bacteria & p\\_\\_Bacteroidota      & c\\_\\_Bacteroidia         & o\\_\\_Bacteroidales      & f\\_\\_Bacteroidaceae     & g\\_\\_Bacteroides         \\\\\n\td\\_\\_Bacteria;p\\_\\_Firmicutes;c\\_\\_Bacilli;o\\_\\_Lactobacillales;f\\_\\_Enterococcaceae;g\\_\\_Enterococcus & d\\_\\_Bacteria & p\\_\\_Firmicutes        & c\\_\\_Bacilli             & o\\_\\_Lactobacillales    & f\\_\\_Enterococcaceae    & g\\_\\_Enterococcus        \\\\\n\td\\_\\_Bacteria;p\\_\\_Proteobacteria;c\\_\\_Gammaproteobacteria;o\\_\\_Enterobacterales;f\\_\\_Enterobacteriaceae;g\\_\\_Escherichia-Shigella & d\\_\\_Bacteria & p\\_\\_Proteobacteria    & c\\_\\_Gammaproteobacteria & o\\_\\_Enterobacterales   & f\\_\\_Enterobacteriaceae & g\\_\\_Escherichia-Shigella\\\\\n\td\\_\\_Bacteria;p\\_\\_Verrucomicrobiota;c\\_\\_Verrucomicrobiae;o\\_\\_Verrucomicrobiales;f\\_\\_Akkermansiaceae;g\\_\\_Akkermansia & d\\_\\_Bacteria & p\\_\\_Verrucomicrobiota & c\\_\\_Verrucomicrobiae    & o\\_\\_Verrucomicrobiales & f\\_\\_Akkermansiaceae    & g\\_\\_Akkermansia         \\\\\n\td\\_\\_Bacteria;p\\_\\_Firmicutes;c\\_\\_Clostridia;o\\_\\_Lachnospirales;f\\_\\_Lachnospiraceae;g\\_\\_Lachnoclostridium & d\\_\\_Bacteria & p\\_\\_Firmicutes        & c\\_\\_Clostridia          & o\\_\\_Lachnospirales     & f\\_\\_Lachnospiraceae    & g\\_\\_Lachnoclostridium   \\\\\n\td\\_\\_Bacteria;p\\_\\_Spirochaetota;c\\_\\_Spirochaetia;o\\_\\_Spirochaetales;f\\_\\_Spirochaetaceae;g\\_\\_Sphaerochaeta & d\\_\\_Bacteria & p\\_\\_Spirochaetota     & c\\_\\_Spirochaetia        & o\\_\\_Spirochaetales     & f\\_\\_Spirochaetaceae    & g\\_\\_Sphaerochaeta       \\\\\n\\end{tabular}\n",
            "text/plain": [
              "                                                                                                                       Domain     \n",
              "d__Bacteria;p__Bacteroidota;c__Bacteroidia;o__Bacteroidales;f__Bacteroidaceae;g__Bacteroides                           d__Bacteria\n",
              "d__Bacteria;p__Firmicutes;c__Bacilli;o__Lactobacillales;f__Enterococcaceae;g__Enterococcus                             d__Bacteria\n",
              "d__Bacteria;p__Proteobacteria;c__Gammaproteobacteria;o__Enterobacterales;f__Enterobacteriaceae;g__Escherichia-Shigella d__Bacteria\n",
              "d__Bacteria;p__Verrucomicrobiota;c__Verrucomicrobiae;o__Verrucomicrobiales;f__Akkermansiaceae;g__Akkermansia           d__Bacteria\n",
              "d__Bacteria;p__Firmicutes;c__Clostridia;o__Lachnospirales;f__Lachnospiraceae;g__Lachnoclostridium                      d__Bacteria\n",
              "d__Bacteria;p__Spirochaetota;c__Spirochaetia;o__Spirochaetales;f__Spirochaetaceae;g__Sphaerochaeta                     d__Bacteria\n",
              "                                                                                                                       Phylum              \n",
              "d__Bacteria;p__Bacteroidota;c__Bacteroidia;o__Bacteroidales;f__Bacteroidaceae;g__Bacteroides                           p__Bacteroidota     \n",
              "d__Bacteria;p__Firmicutes;c__Bacilli;o__Lactobacillales;f__Enterococcaceae;g__Enterococcus                             p__Firmicutes       \n",
              "d__Bacteria;p__Proteobacteria;c__Gammaproteobacteria;o__Enterobacterales;f__Enterobacteriaceae;g__Escherichia-Shigella p__Proteobacteria   \n",
              "d__Bacteria;p__Verrucomicrobiota;c__Verrucomicrobiae;o__Verrucomicrobiales;f__Akkermansiaceae;g__Akkermansia           p__Verrucomicrobiota\n",
              "d__Bacteria;p__Firmicutes;c__Clostridia;o__Lachnospirales;f__Lachnospiraceae;g__Lachnoclostridium                      p__Firmicutes       \n",
              "d__Bacteria;p__Spirochaetota;c__Spirochaetia;o__Spirochaetales;f__Spirochaetaceae;g__Sphaerochaeta                     p__Spirochaetota    \n",
              "                                                                                                                       Class                 \n",
              "d__Bacteria;p__Bacteroidota;c__Bacteroidia;o__Bacteroidales;f__Bacteroidaceae;g__Bacteroides                           c__Bacteroidia        \n",
              "d__Bacteria;p__Firmicutes;c__Bacilli;o__Lactobacillales;f__Enterococcaceae;g__Enterococcus                             c__Bacilli            \n",
              "d__Bacteria;p__Proteobacteria;c__Gammaproteobacteria;o__Enterobacterales;f__Enterobacteriaceae;g__Escherichia-Shigella c__Gammaproteobacteria\n",
              "d__Bacteria;p__Verrucomicrobiota;c__Verrucomicrobiae;o__Verrucomicrobiales;f__Akkermansiaceae;g__Akkermansia           c__Verrucomicrobiae   \n",
              "d__Bacteria;p__Firmicutes;c__Clostridia;o__Lachnospirales;f__Lachnospiraceae;g__Lachnoclostridium                      c__Clostridia         \n",
              "d__Bacteria;p__Spirochaetota;c__Spirochaetia;o__Spirochaetales;f__Spirochaetaceae;g__Sphaerochaeta                     c__Spirochaetia       \n",
              "                                                                                                                       Order                \n",
              "d__Bacteria;p__Bacteroidota;c__Bacteroidia;o__Bacteroidales;f__Bacteroidaceae;g__Bacteroides                           o__Bacteroidales     \n",
              "d__Bacteria;p__Firmicutes;c__Bacilli;o__Lactobacillales;f__Enterococcaceae;g__Enterococcus                             o__Lactobacillales   \n",
              "d__Bacteria;p__Proteobacteria;c__Gammaproteobacteria;o__Enterobacterales;f__Enterobacteriaceae;g__Escherichia-Shigella o__Enterobacterales  \n",
              "d__Bacteria;p__Verrucomicrobiota;c__Verrucomicrobiae;o__Verrucomicrobiales;f__Akkermansiaceae;g__Akkermansia           o__Verrucomicrobiales\n",
              "d__Bacteria;p__Firmicutes;c__Clostridia;o__Lachnospirales;f__Lachnospiraceae;g__Lachnoclostridium                      o__Lachnospirales    \n",
              "d__Bacteria;p__Spirochaetota;c__Spirochaetia;o__Spirochaetales;f__Spirochaetaceae;g__Sphaerochaeta                     o__Spirochaetales    \n",
              "                                                                                                                       Family               \n",
              "d__Bacteria;p__Bacteroidota;c__Bacteroidia;o__Bacteroidales;f__Bacteroidaceae;g__Bacteroides                           f__Bacteroidaceae    \n",
              "d__Bacteria;p__Firmicutes;c__Bacilli;o__Lactobacillales;f__Enterococcaceae;g__Enterococcus                             f__Enterococcaceae   \n",
              "d__Bacteria;p__Proteobacteria;c__Gammaproteobacteria;o__Enterobacterales;f__Enterobacteriaceae;g__Escherichia-Shigella f__Enterobacteriaceae\n",
              "d__Bacteria;p__Verrucomicrobiota;c__Verrucomicrobiae;o__Verrucomicrobiales;f__Akkermansiaceae;g__Akkermansia           f__Akkermansiaceae   \n",
              "d__Bacteria;p__Firmicutes;c__Clostridia;o__Lachnospirales;f__Lachnospiraceae;g__Lachnoclostridium                      f__Lachnospiraceae   \n",
              "d__Bacteria;p__Spirochaetota;c__Spirochaetia;o__Spirochaetales;f__Spirochaetaceae;g__Sphaerochaeta                     f__Spirochaetaceae   \n",
              "                                                                                                                       Genus                  \n",
              "d__Bacteria;p__Bacteroidota;c__Bacteroidia;o__Bacteroidales;f__Bacteroidaceae;g__Bacteroides                           g__Bacteroides         \n",
              "d__Bacteria;p__Firmicutes;c__Bacilli;o__Lactobacillales;f__Enterococcaceae;g__Enterococcus                             g__Enterococcus        \n",
              "d__Bacteria;p__Proteobacteria;c__Gammaproteobacteria;o__Enterobacterales;f__Enterobacteriaceae;g__Escherichia-Shigella g__Escherichia-Shigella\n",
              "d__Bacteria;p__Verrucomicrobiota;c__Verrucomicrobiae;o__Verrucomicrobiales;f__Akkermansiaceae;g__Akkermansia           g__Akkermansia         \n",
              "d__Bacteria;p__Firmicutes;c__Clostridia;o__Lachnospirales;f__Lachnospiraceae;g__Lachnoclostridium                      g__Lachnoclostridium   \n",
              "d__Bacteria;p__Spirochaetota;c__Spirochaetia;o__Spirochaetales;f__Spirochaetaceae;g__Sphaerochaeta                     g__Sphaerochaeta       "
            ]
          },
          "metadata": {}
        }
      ]
    },
    {
      "cell_type": "code",
      "source": [
        "head(SAM)"
      ],
      "metadata": {
        "colab": {
          "base_uri": "https://localhost:8080/",
          "height": 286
        },
        "id": "J7a71cqwDiWB",
        "outputId": "2f270ee4-24e3-48ee-d838-57ef32d8a8f5"
      },
      "execution_count": 26,
      "outputs": [
        {
          "output_type": "display_data",
          "data": {
            "text/html": [
              "<table class=\"dataframe\">\n",
              "<caption>A sample_data: 6 × 5</caption>\n",
              "<thead>\n",
              "\t<tr><th></th><th scope=col>patient.id</th><th scope=col>gender</th><th scope=col>age</th><th scope=col>time.to.neutropenia</th><th scope=col>microbiological.defined.events</th></tr>\n",
              "\t<tr><th></th><th scope=col>&lt;chr&gt;</th><th scope=col>&lt;chr&gt;</th><th scope=col>&lt;int&gt;</th><th scope=col>&lt;int&gt;</th><th scope=col>&lt;chr&gt;</th></tr>\n",
              "</thead>\n",
              "<tbody>\n",
              "\t<tr><th scope=row>P1_V1</th><td>P1_V1 </td><td>male  </td><td>41</td><td> 9</td><td>none</td></tr>\n",
              "\t<tr><th scope=row>P1_V2</th><td>P1_V2 </td><td>male  </td><td>41</td><td> 9</td><td>none</td></tr>\n",
              "\t<tr><th scope=row>P10_V1</th><td>P10_V1</td><td>female</td><td>20</td><td>10</td><td>IPA </td></tr>\n",
              "\t<tr><th scope=row>P10_V2</th><td>P10_V2</td><td>female</td><td>20</td><td>10</td><td>IPA </td></tr>\n",
              "\t<tr><th scope=row>P2_V1</th><td>P2_V1 </td><td>female</td><td>37</td><td>13</td><td>none</td></tr>\n",
              "\t<tr><th scope=row>P2_V2</th><td>P2_V2 </td><td>female</td><td>37</td><td>13</td><td>none</td></tr>\n",
              "</tbody>\n",
              "</table>\n"
            ],
            "text/markdown": "\nA sample_data: 6 × 5\n\n| <!--/--> | patient.id &lt;chr&gt; | gender &lt;chr&gt; | age &lt;int&gt; | time.to.neutropenia &lt;int&gt; | microbiological.defined.events &lt;chr&gt; |\n|---|---|---|---|---|---|\n| P1_V1 | P1_V1  | male   | 41 |  9 | none |\n| P1_V2 | P1_V2  | male   | 41 |  9 | none |\n| P10_V1 | P10_V1 | female | 20 | 10 | IPA  |\n| P10_V2 | P10_V2 | female | 20 | 10 | IPA  |\n| P2_V1 | P2_V1  | female | 37 | 13 | none |\n| P2_V2 | P2_V2  | female | 37 | 13 | none |\n\n",
            "text/latex": "A sample\\_data: 6 × 5\n\\begin{tabular}{r|lllll}\n  & patient.id & gender & age & time.to.neutropenia & microbiological.defined.events\\\\\n  & <chr> & <chr> & <int> & <int> & <chr>\\\\\n\\hline\n\tP1\\_V1 & P1\\_V1  & male   & 41 &  9 & none\\\\\n\tP1\\_V2 & P1\\_V2  & male   & 41 &  9 & none\\\\\n\tP10\\_V1 & P10\\_V1 & female & 20 & 10 & IPA \\\\\n\tP10\\_V2 & P10\\_V2 & female & 20 & 10 & IPA \\\\\n\tP2\\_V1 & P2\\_V1  & female & 37 & 13 & none\\\\\n\tP2\\_V2 & P2\\_V2  & female & 37 & 13 & none\\\\\n\\end{tabular}\n",
            "text/plain": [
              "       patient.id gender age time.to.neutropenia microbiological.defined.events\n",
              "P1_V1  P1_V1      male   41   9                  none                          \n",
              "P1_V2  P1_V2      male   41   9                  none                          \n",
              "P10_V1 P10_V1     female 20  10                  IPA                           \n",
              "P10_V2 P10_V2     female 20  10                  IPA                           \n",
              "P2_V1  P2_V1      female 37  13                  none                          \n",
              "P2_V2  P2_V2      female 37  13                  none                          "
            ]
          },
          "metadata": {}
        }
      ]
    },
    {
      "cell_type": "markdown",
      "source": [
        "## 8. Create Phyloseq object"
      ],
      "metadata": {
        "id": "9wRGg21MDMTX"
      }
    },
    {
      "cell_type": "code",
      "source": [
        "OTU = otu_table(taxMatG, taxa_are_rows = T)\n",
        "TAX = tax_table(annMatG) \n",
        "SAM = sample_data(metaTab)\n",
        "PLS = phyloseq(OTU, TAX, SAM)\n",
        "random_tree = rtree(ntaxa(PLS), rooted = T, tip.label = taxa_names(PLS)) \n",
        "PLS = merge_phyloseq(PLS, random_tree)"
      ],
      "metadata": {
        "id": "lL3lmnX4DQQ3"
      },
      "execution_count": 27,
      "outputs": []
    },
    {
      "cell_type": "code",
      "source": [
        "PLS"
      ],
      "metadata": {
        "colab": {
          "base_uri": "https://localhost:8080/",
          "height": 106
        },
        "id": "301oKY0PEuAt",
        "outputId": "52f6f02c-e345-48af-e1d6-671465e7d96a"
      },
      "execution_count": 28,
      "outputs": [
        {
          "output_type": "display_data",
          "data": {
            "text/plain": [
              "phyloseq-class experiment-level object\n",
              "otu_table()   OTU Table:         [ 195 taxa and 23 samples ]\n",
              "sample_data() Sample Data:       [ 23 samples by 5 sample variables ]\n",
              "tax_table()   Taxonomy Table:    [ 195 taxa by 6 taxonomic ranks ]\n",
              "phy_tree()    Phylogenetic Tree: [ 195 tips and 194 internal nodes ]"
            ]
          },
          "metadata": {}
        }
      ]
    },
    {
      "cell_type": "markdown",
      "source": [
        "## 9. Stacked Bar Plot"
      ],
      "metadata": {
        "id": "GqmEN49NEzLK"
      }
    },
    {
      "cell_type": "code",
      "source": [
        "plot_bar(PLS, fill = \"Phylum\")"
      ],
      "metadata": {
        "colab": {
          "base_uri": "https://localhost:8080/",
          "height": 437
        },
        "id": "U-rXoKCSE1tJ",
        "outputId": "24ee8b16-54e9-4036-a46c-94c508ea6504"
      },
      "execution_count": 29,
      "outputs": [
        {
          "output_type": "display_data",
          "data": {
            "text/plain": [
              "plot without title"
            ],
            "image/png": "[encoded data removed]"
          },
          "metadata": {
            "image/png": {
              "width": 420,
              "height": 420
            }
          }
        }
      ]
    },
    {
      "cell_type": "code",
      "source": [
        "## Convert wide form to long form\n",
        "library(tidyr)\n",
        "\n",
        "taxTabP[,'sampleid'] = rownames(taxTabP)\n",
        "\n",
        "taxDatP = gather(taxTabP, phylum, abundance, \"d__Bacteria;p__Bacteroidota\":\"Unassigned;__\")\n",
        "\n",
        "ggplot(taxDatP, aes(x = sampleid, y = abundance, fill = phylum)) +\n",
        "    geom_bar(position = 'stack', stat = 'identity') +\n",
        "    theme(axis.text.x = element_text(angle = 90, hjust = 1, vjust = 0.5)) +\n",
        "    scale_fill_brewer(palette = \"Set3\")"
      ],
      "metadata": {
        "colab": {
          "base_uri": "https://localhost:8080/",
          "height": 437
        },
        "id": "4EeeM2RKE9lj",
        "outputId": "8190877b-b911-40fd-f228-905dbf689dcf"
      },
      "execution_count": 30,
      "outputs": [
        {
          "output_type": "display_data",
          "data": {
            "text/plain": [
              "plot without title"
            ],
            "image/png": "[encoded data removed]"
          },
          "metadata": {
            "image/png": {
              "width": 420,
              "height": 420
            }
          }
        }
      ]
    },
    {
      "cell_type": "code",
      "source": [
        "## Get number of taxa\n",
        "ntaxa(PLS)"
      ],
      "metadata": {
        "colab": {
          "base_uri": "https://localhost:8080/",
          "height": 34
        },
        "id": "CfEdHulAFCzP",
        "outputId": "fd98d8d7-9bd0-4e3b-994e-76a0a0a182bb"
      },
      "execution_count": 31,
      "outputs": [
        {
          "output_type": "display_data",
          "data": {
            "text/html": [
              "195"
            ],
            "text/markdown": "195",
            "text/latex": "195",
            "text/plain": [
              "[1] 195"
            ]
          },
          "metadata": {}
        }
      ]
    },
    {
      "cell_type": "code",
      "source": [
        "## Get number of samples \n",
        "nsamples(PLS)"
      ],
      "metadata": {
        "colab": {
          "base_uri": "https://localhost:8080/",
          "height": 34
        },
        "id": "lZil2ONKFD_Q",
        "outputId": "1d01ad59-eb19-43be-d306-1bd26ce148c2"
      },
      "execution_count": 32,
      "outputs": [
        {
          "output_type": "display_data",
          "data": {
            "text/html": [
              "23"
            ],
            "text/markdown": "23",
            "text/latex": "23",
            "text/plain": [
              "[1] 23"
            ]
          },
          "metadata": {}
        }
      ]
    },
    {
      "cell_type": "code",
      "source": [
        "sample_names(PLS)"
      ],
      "metadata": {
        "colab": {
          "base_uri": "https://localhost:8080/",
          "height": 51
        },
        "id": "_x2_jdibFK3T",
        "outputId": "7493338c-5cb5-48ef-d6bc-ca747aa8a7ef"
      },
      "execution_count": 33,
      "outputs": [
        {
          "output_type": "display_data",
          "data": {
            "text/html": [
              "<style>\n",
              ".list-inline {list-style: none; margin:0; padding: 0}\n",
              ".list-inline>li {display: inline-block}\n",
              ".list-inline>li:not(:last-child)::after {content: \"\\00b7\"; padding: 0 .5ex}\n",
              "</style>\n",
              "<ol class=list-inline><li>'P10_V1'</li><li>'P9_V1'</li><li>'P8_V1'</li><li>'P7_V1'</li><li>'P6_V1'</li><li>'P5_V1'</li><li>'P4_V1'</li><li>'P9_V3'</li><li>'P8_V3'</li><li>'P6_V3'</li><li>'P4_V3'</li><li>'P3_V1'</li><li>'P3_V3'</li><li>'P10_V2'</li><li>'P9_V2'</li><li>'P8_V2'</li><li>'P7_V2'</li><li>'P4_V2'</li><li>'P3_V2'</li><li>'P2_V2'</li><li>'P1_V2'</li><li>'P2_V1'</li><li>'P1_V1'</li></ol>\n"
            ],
            "text/markdown": "1. 'P10_V1'\n2. 'P9_V1'\n3. 'P8_V1'\n4. 'P7_V1'\n5. 'P6_V1'\n6. 'P5_V1'\n7. 'P4_V1'\n8. 'P9_V3'\n9. 'P8_V3'\n10. 'P6_V3'\n11. 'P4_V3'\n12. 'P3_V1'\n13. 'P3_V3'\n14. 'P10_V2'\n15. 'P9_V2'\n16. 'P8_V2'\n17. 'P7_V2'\n18. 'P4_V2'\n19. 'P3_V2'\n20. 'P2_V2'\n21. 'P1_V2'\n22. 'P2_V1'\n23. 'P1_V1'\n\n\n",
            "text/latex": "\\begin{enumerate*}\n\\item 'P10\\_V1'\n\\item 'P9\\_V1'\n\\item 'P8\\_V1'\n\\item 'P7\\_V1'\n\\item 'P6\\_V1'\n\\item 'P5\\_V1'\n\\item 'P4\\_V1'\n\\item 'P9\\_V3'\n\\item 'P8\\_V3'\n\\item 'P6\\_V3'\n\\item 'P4\\_V3'\n\\item 'P3\\_V1'\n\\item 'P3\\_V3'\n\\item 'P10\\_V2'\n\\item 'P9\\_V2'\n\\item 'P8\\_V2'\n\\item 'P7\\_V2'\n\\item 'P4\\_V2'\n\\item 'P3\\_V2'\n\\item 'P2\\_V2'\n\\item 'P1\\_V2'\n\\item 'P2\\_V1'\n\\item 'P1\\_V1'\n\\end{enumerate*}\n",
            "text/plain": [
              " [1] \"P10_V1\" \"P9_V1\"  \"P8_V1\"  \"P7_V1\"  \"P6_V1\"  \"P5_V1\"  \"P4_V1\"  \"P9_V3\" \n",
              " [9] \"P8_V3\"  \"P6_V3\"  \"P4_V3\"  \"P3_V1\"  \"P3_V3\"  \"P10_V2\" \"P9_V2\"  \"P8_V2\" \n",
              "[17] \"P7_V2\"  \"P4_V2\"  \"P3_V2\"  \"P2_V2\"  \"P1_V2\"  \"P2_V1\"  \"P1_V1\" "
            ]
          },
          "metadata": {}
        }
      ]
    },
    {
      "cell_type": "code",
      "source": [
        "rank_names(PLS)"
      ],
      "metadata": {
        "colab": {
          "base_uri": "https://localhost:8080/",
          "height": 34
        },
        "id": "FdMVER5vFOCZ",
        "outputId": "79440b58-821b-4ea7-f162-c766677cf5c7"
      },
      "execution_count": 34,
      "outputs": [
        {
          "output_type": "display_data",
          "data": {
            "text/html": [
              "<style>\n",
              ".list-inline {list-style: none; margin:0; padding: 0}\n",
              ".list-inline>li {display: inline-block}\n",
              ".list-inline>li:not(:last-child)::after {content: \"\\00b7\"; padding: 0 .5ex}\n",
              "</style>\n",
              "<ol class=list-inline><li>'Domain'</li><li>'Phylum'</li><li>'Class'</li><li>'Order'</li><li>'Family'</li><li>'Genus'</li></ol>\n"
            ],
            "text/markdown": "1. 'Domain'\n2. 'Phylum'\n3. 'Class'\n4. 'Order'\n5. 'Family'\n6. 'Genus'\n\n\n",
            "text/latex": "\\begin{enumerate*}\n\\item 'Domain'\n\\item 'Phylum'\n\\item 'Class'\n\\item 'Order'\n\\item 'Family'\n\\item 'Genus'\n\\end{enumerate*}\n",
            "text/plain": [
              "[1] \"Domain\" \"Phylum\" \"Class\"  \"Order\"  \"Family\" \"Genus\" "
            ]
          },
          "metadata": {}
        }
      ]
    },
    {
      "cell_type": "code",
      "source": [
        "sample_variables(PLS)"
      ],
      "metadata": {
        "colab": {
          "base_uri": "https://localhost:8080/",
          "height": 34
        },
        "id": "iOqaVvlBFR1J",
        "outputId": "623d7ab6-ba70-49e5-efa5-0ae8e118bc95"
      },
      "execution_count": 35,
      "outputs": [
        {
          "output_type": "display_data",
          "data": {
            "text/html": [
              "<style>\n",
              ".list-inline {list-style: none; margin:0; padding: 0}\n",
              ".list-inline>li {display: inline-block}\n",
              ".list-inline>li:not(:last-child)::after {content: \"\\00b7\"; padding: 0 .5ex}\n",
              "</style>\n",
              "<ol class=list-inline><li>'patient.id'</li><li>'gender'</li><li>'age'</li><li>'time.to.neutropenia'</li><li>'microbiological.defined.events'</li></ol>\n"
            ],
            "text/markdown": "1. 'patient.id'\n2. 'gender'\n3. 'age'\n4. 'time.to.neutropenia'\n5. 'microbiological.defined.events'\n\n\n",
            "text/latex": "\\begin{enumerate*}\n\\item 'patient.id'\n\\item 'gender'\n\\item 'age'\n\\item 'time.to.neutropenia'\n\\item 'microbiological.defined.events'\n\\end{enumerate*}\n",
            "text/plain": [
              "[1] \"patient.id\"                     \"gender\"                        \n",
              "[3] \"age\"                            \"time.to.neutropenia\"           \n",
              "[5] \"microbiological.defined.events\""
            ]
          },
          "metadata": {}
        }
      ]
    },
    {
      "cell_type": "code",
      "source": [
        "otu_table(PLS)[1:3, 1:3]"
      ],
      "metadata": {
        "colab": {
          "base_uri": "https://localhost:8080/",
          "height": 161
        },
        "id": "eORlhR1hFebt",
        "outputId": "5a3e1cec-57a6-442b-96d4-d769da9e1315"
      },
      "execution_count": 36,
      "outputs": [
        {
          "output_type": "display_data",
          "data": {
            "text/html": [
              "<table class=\"dataframe\">\n",
              "<caption>A otu_table: 3 × 3 of type int</caption>\n",
              "<thead>\n",
              "\t<tr><th></th><th scope=col>P10_V1</th><th scope=col>P9_V1</th><th scope=col>P8_V1</th></tr>\n",
              "</thead>\n",
              "<tbody>\n",
              "\t<tr><th scope=row>Unassigned;__;__;__;__;__</th><td>214</td><td>13</td><td>24</td></tr>\n",
              "\t<tr><th scope=row>d__Bacteria;p__Firmicutes;c__Bacilli;o__Lactobacillales;f__Lactobacillaceae;g__Lactobacillus</th><td>  0</td><td> 1</td><td> 0</td></tr>\n",
              "\t<tr><th scope=row>d__Bacteria;p__Firmicutes;c__Clostridia;o__Lachnospirales;f__Lachnospiraceae;g__Sellimonas</th><td>  0</td><td> 0</td><td> 0</td></tr>\n",
              "</tbody>\n",
              "</table>\n"
            ],
            "text/markdown": "\nA otu_table: 3 × 3 of type int\n\n| <!--/--> | P10_V1 | P9_V1 | P8_V1 |\n|---|---|---|---|\n| Unassigned;__;__;__;__;__ | 214 | 13 | 24 |\n| d__Bacteria;p__Firmicutes;c__Bacilli;o__Lactobacillales;f__Lactobacillaceae;g__Lactobacillus |   0 |  1 |  0 |\n| d__Bacteria;p__Firmicutes;c__Clostridia;o__Lachnospirales;f__Lachnospiraceae;g__Sellimonas |   0 |  0 |  0 |\n\n",
            "text/latex": "A otu\\_table: 3 × 3 of type int\n\\begin{tabular}{r|lll}\n  & P10\\_V1 & P9\\_V1 & P8\\_V1\\\\\n\\hline\n\tUnassigned;\\_\\_;\\_\\_;\\_\\_;\\_\\_;\\_\\_ & 214 & 13 & 24\\\\\n\td\\_\\_Bacteria;p\\_\\_Firmicutes;c\\_\\_Bacilli;o\\_\\_Lactobacillales;f\\_\\_Lactobacillaceae;g\\_\\_Lactobacillus &   0 &  1 &  0\\\\\n\td\\_\\_Bacteria;p\\_\\_Firmicutes;c\\_\\_Clostridia;o\\_\\_Lachnospirales;f\\_\\_Lachnospiraceae;g\\_\\_Sellimonas &   0 &  0 &  0\\\\\n\\end{tabular}\n",
            "text/plain": [
              "                                                                                             P10_V1\n",
              "Unassigned;__;__;__;__;__                                                                    214   \n",
              "d__Bacteria;p__Firmicutes;c__Bacilli;o__Lactobacillales;f__Lactobacillaceae;g__Lactobacillus   0   \n",
              "d__Bacteria;p__Firmicutes;c__Clostridia;o__Lachnospirales;f__Lachnospiraceae;g__Sellimonas     0   \n",
              "                                                                                             P9_V1\n",
              "Unassigned;__;__;__;__;__                                                                    13   \n",
              "d__Bacteria;p__Firmicutes;c__Bacilli;o__Lactobacillales;f__Lactobacillaceae;g__Lactobacillus  1   \n",
              "d__Bacteria;p__Firmicutes;c__Clostridia;o__Lachnospirales;f__Lachnospiraceae;g__Sellimonas    0   \n",
              "                                                                                             P8_V1\n",
              "Unassigned;__;__;__;__;__                                                                    24   \n",
              "d__Bacteria;p__Firmicutes;c__Bacilli;o__Lactobacillales;f__Lactobacillaceae;g__Lactobacillus  0   \n",
              "d__Bacteria;p__Firmicutes;c__Clostridia;o__Lachnospirales;f__Lachnospiraceae;g__Sellimonas    0   "
            ]
          },
          "metadata": {}
        }
      ]
    },
    {
      "cell_type": "code",
      "source": [
        "tax_table(PLS)[1:3, 1:3]"
      ],
      "metadata": {
        "colab": {
          "base_uri": "https://localhost:8080/",
          "height": 161
        },
        "id": "W_9P0vXcFh1T",
        "outputId": "9b79a002-bd62-4205-c0c3-cfcee9f75fb1"
      },
      "execution_count": 37,
      "outputs": [
        {
          "output_type": "display_data",
          "data": {
            "text/html": [
              "<table class=\"dataframe\">\n",
              "<caption>A taxonomyTable: 3 × 3 of type chr</caption>\n",
              "<thead>\n",
              "\t<tr><th></th><th scope=col>Domain</th><th scope=col>Phylum</th><th scope=col>Class</th></tr>\n",
              "</thead>\n",
              "<tbody>\n",
              "\t<tr><th scope=row>Unassigned;__;__;__;__;__</th><td>Unassigned </td><td>__           </td><td>__           </td></tr>\n",
              "\t<tr><th scope=row>d__Bacteria;p__Firmicutes;c__Bacilli;o__Lactobacillales;f__Lactobacillaceae;g__Lactobacillus</th><td>d__Bacteria</td><td>p__Firmicutes</td><td>c__Bacilli   </td></tr>\n",
              "\t<tr><th scope=row>d__Bacteria;p__Firmicutes;c__Clostridia;o__Lachnospirales;f__Lachnospiraceae;g__Sellimonas</th><td>d__Bacteria</td><td>p__Firmicutes</td><td>c__Clostridia</td></tr>\n",
              "</tbody>\n",
              "</table>\n"
            ],
            "text/markdown": "\nA taxonomyTable: 3 × 3 of type chr\n\n| <!--/--> | Domain | Phylum | Class |\n|---|---|---|---|\n| Unassigned;__;__;__;__;__ | Unassigned  | __            | __            |\n| d__Bacteria;p__Firmicutes;c__Bacilli;o__Lactobacillales;f__Lactobacillaceae;g__Lactobacillus | d__Bacteria | p__Firmicutes | c__Bacilli    |\n| d__Bacteria;p__Firmicutes;c__Clostridia;o__Lachnospirales;f__Lachnospiraceae;g__Sellimonas | d__Bacteria | p__Firmicutes | c__Clostridia |\n\n",
            "text/latex": "A taxonomyTable: 3 × 3 of type chr\n\\begin{tabular}{r|lll}\n  & Domain & Phylum & Class\\\\\n\\hline\n\tUnassigned;\\_\\_;\\_\\_;\\_\\_;\\_\\_;\\_\\_ & Unassigned  & \\_\\_            & \\_\\_           \\\\\n\td\\_\\_Bacteria;p\\_\\_Firmicutes;c\\_\\_Bacilli;o\\_\\_Lactobacillales;f\\_\\_Lactobacillaceae;g\\_\\_Lactobacillus & d\\_\\_Bacteria & p\\_\\_Firmicutes & c\\_\\_Bacilli   \\\\\n\td\\_\\_Bacteria;p\\_\\_Firmicutes;c\\_\\_Clostridia;o\\_\\_Lachnospirales;f\\_\\_Lachnospiraceae;g\\_\\_Sellimonas & d\\_\\_Bacteria & p\\_\\_Firmicutes & c\\_\\_Clostridia\\\\\n\\end{tabular}\n",
            "text/plain": [
              "                                                                                             Domain     \n",
              "Unassigned;__;__;__;__;__                                                                    Unassigned \n",
              "d__Bacteria;p__Firmicutes;c__Bacilli;o__Lactobacillales;f__Lactobacillaceae;g__Lactobacillus d__Bacteria\n",
              "d__Bacteria;p__Firmicutes;c__Clostridia;o__Lachnospirales;f__Lachnospiraceae;g__Sellimonas   d__Bacteria\n",
              "                                                                                             Phylum       \n",
              "Unassigned;__;__;__;__;__                                                                    __           \n",
              "d__Bacteria;p__Firmicutes;c__Bacilli;o__Lactobacillales;f__Lactobacillaceae;g__Lactobacillus p__Firmicutes\n",
              "d__Bacteria;p__Firmicutes;c__Clostridia;o__Lachnospirales;f__Lachnospiraceae;g__Sellimonas   p__Firmicutes\n",
              "                                                                                             Class        \n",
              "Unassigned;__;__;__;__;__                                                                    __           \n",
              "d__Bacteria;p__Firmicutes;c__Bacilli;o__Lactobacillales;f__Lactobacillaceae;g__Lactobacillus c__Bacilli   \n",
              "d__Bacteria;p__Firmicutes;c__Clostridia;o__Lachnospirales;f__Lachnospiraceae;g__Sellimonas   c__Clostridia"
            ]
          },
          "metadata": {}
        }
      ]
    },
    {
      "cell_type": "code",
      "source": [
        "phy_tree(PLS)"
      ],
      "metadata": {
        "colab": {
          "base_uri": "https://localhost:8080/",
          "height": 231
        },
        "id": "r2xIXAWdFk-s",
        "outputId": "82a076a4-23b9-49f2-902d-9ce442cd4acd"
      },
      "execution_count": 38,
      "outputs": [
        {
          "output_type": "display_data",
          "data": {
            "text/plain": [
              "\n",
              "Phylogenetic tree with 195 tips and 194 internal nodes.\n",
              "\n",
              "Tip labels:\n",
              "  Unassigned;__;__;__;__;__, d__Bacteria;p__Firmicutes;c__Bacilli;o__Lactobacillales;f__Lactobacillaceae;g__Lactobacillus, d__Bacteria;p__Firmicutes;c__Clostridia;o__Lachnospirales;f__Lachnospiraceae;g__Sellimonas, d__Bacteria;p__Proteobacteria;c__Gammaproteobacteria;o__Enterobacterales;f__Enterobacteriaceae;__, d__Bacteria;p__Firmicutes;c__Bacilli;o__Erysipelotrichales;f__Erysipelatoclostridiaceae;g__Catenibacterium, d__Bacteria;p__Proteobacteria;c__Gammaproteobacteria;o__Enterobacterales;f__Enterobacteriaceae;g__Citrobacter, ...\n",
              "\n",
              "Rooted; includes branch lengths."
            ]
          },
          "metadata": {}
        }
      ]
    },
    {
      "cell_type": "markdown",
      "source": [
        "## 10. Calculate alpha diversity\n",
        "\n",
        "* Shannon's diversity index\n",
        "* Simpson's diversity index\n",
        "* Chao1 index\n",
        "* Pielou's evenness index\n",
        "* Faith's phylogenetic distance\n",
        "* Observed feature"
      ],
      "metadata": {
        "id": "C9dZnDaiFqdb"
      }
    },
    {
      "cell_type": "code",
      "source": [
        "shannonVec <- diversity(taxMatG, MARGIN = 2, index = \"shannon\")\n",
        "simpsonVec <- diversity(taxMatG, MARGIN = 2, index = \"simpson\")\n",
        "chao1Vec <- estimateR(t(taxMatG))['S.chao1',]\n",
        "observedVec <- specnumber(t(taxMatG))\n",
        "pielouVec = shannonVec/log(observedVec)\n",
        "#faithVec = estimate_pd(PLS)[,'PD']"
      ],
      "metadata": {
        "id": "VESJBjqDF-8F"
      },
      "execution_count": 39,
      "outputs": []
    },
    {
      "cell_type": "code",
      "source": [
        "# Export table of alpha diversity\n",
        "write.table(cbind(observedVec, shannonVec, simpsonVec, pielouVec), \"[report] alpha_diversity.csv\", sep=\",\", quote=F, row.names = T)"
      ],
      "metadata": {
        "id": "SlRiUEEeGAxB"
      },
      "execution_count": 40,
      "outputs": []
    },
    {
      "cell_type": "markdown",
      "source": [
        "## 11. Alpha diversity significance test"
      ],
      "metadata": {
        "id": "cCs1moweGEuD"
      }
    },
    {
      "cell_type": "code",
      "source": [
        "## Create a data frame of alpha diversity and variables to be compared\n",
        "dat = data.frame(shannon = shannonVec, \n",
        "                simpson = simpsonVec, \n",
        "                pielou = pielouVec, \n",
        "                #faith = faithVec, \n",
        "                events = metaTab[,'microbiological-defined-events'], \n",
        "                gender = metaTab[,'gender'])"
      ],
      "metadata": {
        "id": "rvY8lN_sGxNQ"
      },
      "execution_count": 41,
      "outputs": []
    },
    {
      "cell_type": "code",
      "source": [
        "wilcox.test(shannon ~ gender, data = dat)\n",
        "wilcox.test(shannon ~ events, data = dat)"
      ],
      "metadata": {
        "colab": {
          "base_uri": "https://localhost:8080/",
          "height": 231
        },
        "id": "TLD_tPd0HAHI",
        "outputId": "0971e07d-4f48-416d-dad3-2ee75c6b686b"
      },
      "execution_count": 42,
      "outputs": [
        {
          "output_type": "display_data",
          "data": {
            "text/plain": [
              "\n",
              "\tWilcoxon rank sum exact test\n",
              "\n",
              "data:  shannon by gender\n",
              "W = 52, p-value = 0.6355\n",
              "alternative hypothesis: true location shift is not equal to 0\n"
            ]
          },
          "metadata": {}
        },
        {
          "output_type": "display_data",
          "data": {
            "text/plain": [
              "\n",
              "\tWilcoxon rank sum exact test\n",
              "\n",
              "data:  shannon by events\n",
              "W = 56, p-value = 1\n",
              "alternative hypothesis: true location shift is not equal to 0\n"
            ]
          },
          "metadata": {}
        }
      ]
    },
    {
      "cell_type": "code",
      "source": [
        "wilcox.test(simpson ~ gender, data = dat)\n",
        "wilcox.test(simpson ~ events, data = dat)"
      ],
      "metadata": {
        "colab": {
          "base_uri": "https://localhost:8080/",
          "height": 231
        },
        "id": "GsNds4o_HFY6",
        "outputId": "518ece0f-913f-4bc8-ff6f-5ab4325ccce3"
      },
      "execution_count": 43,
      "outputs": [
        {
          "output_type": "display_data",
          "data": {
            "text/plain": [
              "\n",
              "\tWilcoxon rank sum exact test\n",
              "\n",
              "data:  simpson by gender\n",
              "W = 50, p-value = 0.5479\n",
              "alternative hypothesis: true location shift is not equal to 0\n"
            ]
          },
          "metadata": {}
        },
        {
          "output_type": "display_data",
          "data": {
            "text/plain": [
              "\n",
              "\tWilcoxon rank sum exact test\n",
              "\n",
              "data:  simpson by events\n",
              "W = 60, p-value = 0.8195\n",
              "alternative hypothesis: true location shift is not equal to 0\n"
            ]
          },
          "metadata": {}
        }
      ]
    },
    {
      "cell_type": "code",
      "source": [
        "wilcox.test(pielou ~ gender, data = dat)\n",
        "wilcox.test(pielou ~ events, data = dat)"
      ],
      "metadata": {
        "colab": {
          "base_uri": "https://localhost:8080/",
          "height": 231
        },
        "id": "9jG-tyWzHGl3",
        "outputId": "b29556ad-25eb-47bf-8c52-7cbb92621fe2"
      },
      "execution_count": 44,
      "outputs": [
        {
          "output_type": "display_data",
          "data": {
            "text/plain": [
              "\n",
              "\tWilcoxon rank sum exact test\n",
              "\n",
              "data:  pielou by gender\n",
              "W = 53, p-value = 0.6813\n",
              "alternative hypothesis: true location shift is not equal to 0\n"
            ]
          },
          "metadata": {}
        },
        {
          "output_type": "display_data",
          "data": {
            "text/plain": [
              "\n",
              "\tWilcoxon rank sum exact test\n",
              "\n",
              "data:  pielou by events\n",
              "W = 57, p-value = 0.974\n",
              "alternative hypothesis: true location shift is not equal to 0\n"
            ]
          },
          "metadata": {}
        }
      ]
    },
    {
      "cell_type": "code",
      "source": [
        "p1 = ggplot(dat, aes(x = gender, y = shannon, fill = gender)) + \n",
        "    geom_boxplot() + \n",
        "    stat_compare_means(method = \"wilcox.test\", size = 5, label.x = 1.25, label.y = 3) + \n",
        "    xlab(\"Gender\") + \n",
        "    ylab(\"Shannon's diversity\") + \n",
        "    scale_fill_manual(values = c('#F08080', '#38ACEC')) + \n",
        "    theme(panel.background = element_rect(fill='white', colour = \"grey\"),\n",
        "          plot.background = element_rect(fill='transparent', color = NA),\n",
        "          legend.position = \"none\", text = element_text(size = 12))\n",
        "p1"
      ],
      "metadata": {
        "colab": {
          "base_uri": "https://localhost:8080/",
          "height": 437
        },
        "id": "UNa5rIdfHKuh",
        "outputId": "94bf41e9-ade6-44d4-b67b-d4c240af128d"
      },
      "execution_count": 45,
      "outputs": [
        {
          "output_type": "display_data",
          "data": {
            "text/plain": [
              "plot without title"
            ],
            "image/png": "[encoded data removed]"
          },
          "metadata": {
            "image/png": {
              "width": 420,
              "height": 420
            }
          }
        }
      ]
    },
    {
      "cell_type": "code",
      "source": [
        "#Save image to file\n",
        "ggsave('shanon-boxplot_gender.png',dpi=500)"
      ],
      "metadata": {
        "colab": {
          "base_uri": "https://localhost:8080/"
        },
        "id": "QQB_Q4ThTb32",
        "outputId": "60670087-137b-4b92-b670-6cf4c8c8072f"
      },
      "execution_count": 56,
      "outputs": [
        {
          "output_type": "stream",
          "name": "stderr",
          "text": [
            "Saving 6.67 x 6.67 in image\n",
            "\n"
          ]
        }
      ]
    },
    {
      "cell_type": "code",
      "source": [
        "p2 = ggplot(dat, aes(x = events, y = shannon, fill = events)) + \n",
        "    geom_boxplot() + \n",
        "    stat_compare_means(method = \"wilcox.test\", size = 5, label.x = 1.25, label.y = 3) + \n",
        "    xlab(\"microbiological-defined-events\") + \n",
        "    ylab(\"Shannon's diversity\") + \n",
        "    scale_fill_manual(values = c('#F08080', '#38ACEC')) + \n",
        "    theme(panel.background = element_rect(fill='white', colour = \"grey\"),\n",
        "          plot.background = element_rect(fill='transparent', color = NA),\n",
        "          legend.position = \"none\", text = element_text(size = 12))\n",
        "p2"
      ],
      "metadata": {
        "colab": {
          "base_uri": "https://localhost:8080/",
          "height": 437
        },
        "id": "HJu8KPgqHOOi",
        "outputId": "83876223-f4f1-4cf1-f1df-dc16e280f82f"
      },
      "execution_count": 46,
      "outputs": [
        {
          "output_type": "display_data",
          "data": {
            "text/plain": [
              "plot without title"
            ],
            "image/png": "[encoded data removed]"
          },
          "metadata": {
            "image/png": {
              "width": 420,
              "height": 420
            }
          }
        }
      ]
    },
    {
      "cell_type": "code",
      "source": [
        "#Save image to file\n",
        "ggsave('shanon-boxplot_event.png',dpi=500)"
      ],
      "metadata": {
        "colab": {
          "base_uri": "https://localhost:8080/"
        },
        "id": "av1sJIzCTK1G",
        "outputId": "5d84aa97-27a6-4b57-e436-a7c2979c96e6"
      },
      "execution_count": 55,
      "outputs": [
        {
          "output_type": "stream",
          "name": "stderr",
          "text": [
            "Saving 6.67 x 6.67 in image\n",
            "\n"
          ]
        }
      ]
    },
    {
      "cell_type": "markdown",
      "source": [
        "## 12. Beta diversity significance test\n",
        "\n",
        "* Bray-Curtis distance\n",
        "* Jaccard distance\n",
        "* Unweighted Unifrac distance\n",
        "* Weighted Unifrac distance"
      ],
      "metadata": {
        "id": "kPpk9tRoHU3l"
      }
    },
    {
      "cell_type": "code",
      "source": [
        "ord.bray = ordinate(PLS, \"PCoA\", \"bray\")\n",
        "ord.jacc = ordinate(PLS, \"PCoA\", \"jaccard\")\n",
        "ord.unif = ordinate(PLS, \"PCoA\", \"unifrac\")\n",
        "ord.wuni = ordinate(PLS, \"PCoA\", \"wunifrac\")"
      ],
      "metadata": {
        "id": "OPYHae0YHeQm"
      },
      "execution_count": 47,
      "outputs": []
    },
    {
      "cell_type": "code",
      "source": [
        "eigen.bray <- data.frame(ord.bray$vectors, gender = metaTab[,'gender'], events = metaTab[,'microbiological-defined-events'])\n",
        "eigen.jacc <- data.frame(ord.jacc$vectors, gender = metaTab[,'gender'], events = metaTab[,'microbiological-defined-events'])\n",
        "eigen.unif <- data.frame(ord.unif$vectors, gender = metaTab[,'gender'], events = metaTab[,'microbiological-defined-events'])\n",
        "eigen.wuni <- data.frame(ord.wuni$vectors, gender = metaTab[,'gender'], events = metaTab[,'microbiological-defined-events'])\n"
      ],
      "metadata": {
        "id": "3vbk6eXEHmmr"
      },
      "execution_count": 48,
      "outputs": []
    },
    {
      "cell_type": "code",
      "source": [
        "#PEMANOVA test\n",
        "PLS.bray = distance(PLS, method = \"bray\")\n",
        "adonis2(PLS.bray ~ gender, data = metaTab, permutation = 9999)"
      ],
      "metadata": {
        "colab": {
          "base_uri": "https://localhost:8080/",
          "height": 192
        },
        "id": "nGUBZliFWowo",
        "outputId": "141c2143-01ff-4331-ecbc-931ac55eeb08"
      },
      "execution_count": 59,
      "outputs": [
        {
          "output_type": "display_data",
          "data": {
            "text/html": [
              "<table class=\"dataframe\">\n",
              "<caption>A anova.cca: 3 × 5</caption>\n",
              "<thead>\n",
              "\t<tr><th></th><th scope=col>Df</th><th scope=col>SumOfSqs</th><th scope=col>R2</th><th scope=col>F</th><th scope=col>Pr(&gt;F)</th></tr>\n",
              "\t<tr><th></th><th scope=col>&lt;dbl&gt;</th><th scope=col>&lt;dbl&gt;</th><th scope=col>&lt;dbl&gt;</th><th scope=col>&lt;dbl&gt;</th><th scope=col>&lt;dbl&gt;</th></tr>\n",
              "</thead>\n",
              "<tbody>\n",
              "\t<tr><th scope=row>gender</th><td> 1</td><td>0.1485221</td><td>0.02365678</td><td>0.5088296</td><td>0.897</td></tr>\n",
              "\t<tr><th scope=row>Residual</th><td>21</td><td>6.1296837</td><td>0.97634322</td><td>       NA</td><td>   NA</td></tr>\n",
              "\t<tr><th scope=row>Total</th><td>22</td><td>6.2782059</td><td>1.00000000</td><td>       NA</td><td>   NA</td></tr>\n",
              "</tbody>\n",
              "</table>\n"
            ],
            "text/markdown": "\nA anova.cca: 3 × 5\n\n| <!--/--> | Df &lt;dbl&gt; | SumOfSqs &lt;dbl&gt; | R2 &lt;dbl&gt; | F &lt;dbl&gt; | Pr(&gt;F) &lt;dbl&gt; |\n|---|---|---|---|---|---|\n| gender |  1 | 0.1485221 | 0.02365678 | 0.5088296 | 0.897 |\n| Residual | 21 | 6.1296837 | 0.97634322 |        NA |    NA |\n| Total | 22 | 6.2782059 | 1.00000000 |        NA |    NA |\n\n",
            "text/latex": "A anova.cca: 3 × 5\n\\begin{tabular}{r|lllll}\n  & Df & SumOfSqs & R2 & F & Pr(>F)\\\\\n  & <dbl> & <dbl> & <dbl> & <dbl> & <dbl>\\\\\n\\hline\n\tgender &  1 & 0.1485221 & 0.02365678 & 0.5088296 & 0.897\\\\\n\tResidual & 21 & 6.1296837 & 0.97634322 &        NA &    NA\\\\\n\tTotal & 22 & 6.2782059 & 1.00000000 &        NA &    NA\\\\\n\\end{tabular}\n",
            "text/plain": [
              "         Df SumOfSqs  R2         F         Pr(>F)\n",
              "gender    1 0.1485221 0.02365678 0.5088296 0.897 \n",
              "Residual 21 6.1296837 0.97634322        NA    NA \n",
              "Total    22 6.2782059 1.00000000        NA    NA "
            ]
          },
          "metadata": {}
        }
      ]
    },
    {
      "cell_type": "code",
      "source": [
        "ggplot(eigen.bray, aes(x=Axis.1, y=Axis.2, color=gender)) +\n",
        "    geom_point() +\n",
        "    scale_color_brewer(palette = \"Set1\") +\n",
        "    labs(subtitle=\"Bray-Curtis Dissimilarity\", x=\"Axis.1 [41.3%]\", y=\"Axis.2 [16.6%]\", color = \"gender\") +\n",
        "    annotate(\"text\", label = \"PERMANOVA, P = 1e-04 ***\", x = 0.1, y = 0.8, size = 5, colour = \"black\") +\n",
        "    theme(panel.background = element_rect(fill='white', colour = \"grey\"),\n",
        "          plot.background = element_rect(fill='transparent', color = NA),\n",
        "          legend.position = \"right\", text = element_text(size = 10))"
      ],
      "metadata": {
        "colab": {
          "base_uri": "https://localhost:8080/",
          "height": 437
        },
        "id": "80oYdOZkHppH",
        "outputId": "387a092c-428d-4045-c0a6-fb517fe37142"
      },
      "execution_count": 49,
      "outputs": [
        {
          "output_type": "display_data",
          "data": {
            "text/plain": [
              "plot without title"
            ],
            "image/png": "[encoded data removed]"
          },
          "metadata": {
            "image/png": {
              "width": 420,
              "height": 420
            }
          }
        }
      ]
    },
    {
      "cell_type": "code",
      "source": [
        "ggsave('Bray-Curtis_Dissimilarity_gender.png',dpi=500)"
      ],
      "metadata": {
        "id": "Go7Ck6MLX3ez"
      },
      "execution_count": null,
      "outputs": []
    },
    {
      "cell_type": "code",
      "source": [
        "ggplot(eigen.bray, aes(x=Axis.1, y=Axis.2, color=events)) +\n",
        "    geom_point() +\n",
        "    scale_color_brewer(palette = \"Set1\") +\n",
        "    labs(subtitle=\"Bray-Curtis Dissimilarity\", x=\"Axis.1 [41.3%]\", y=\"Axis.2 [16.6%]\", color = \"Events\") +\n",
        "    annotate(\"text\", label = \"PERMANOVA, P = 1e-04 ***\", x = 0.1, y = 0.8, size = 5, colour = \"black\") +\n",
        "    theme(panel.background = element_rect(fill='white', colour = \"grey\"),\n",
        "          plot.background = element_rect(fill='transparent', color = NA),\n",
        "          legend.position = \"right\", text = element_text(size = 10))"
      ],
      "metadata": {
        "colab": {
          "base_uri": "https://localhost:8080/",
          "height": 437
        },
        "id": "944vDsDOHtMJ",
        "outputId": "d8c5b3c9-44ef-4ae7-c951-6524cb065448"
      },
      "execution_count": 50,
      "outputs": [
        {
          "output_type": "display_data",
          "data": {
            "text/plain": [
              "plot without title"
            ],
            "image/png": "[encoded data removed]"
          },
          "metadata": {
            "image/png": {
              "width": 420,
              "height": 420
            }
          }
        }
      ]
    },
    {
      "cell_type": "code",
      "source": [
        "ggsave('Bray-Curtis_Dissimilarity_event.png',dpi=500)"
      ],
      "metadata": {
        "id": "3j6A4R0zYCNz"
      },
      "execution_count": null,
      "outputs": []
    },
    {
      "cell_type": "markdown",
      "source": [
        ""
      ],
      "metadata": {
        "id": "BCQAAklgRgGq"
      }
    }
  ]
}